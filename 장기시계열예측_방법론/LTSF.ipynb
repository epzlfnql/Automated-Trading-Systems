{
 "cells": [
  {
   "cell_type": "markdown",
   "metadata": {},
   "source": [
    "# LTSF-Linear family\n",
    "- Linear : one linear layer\n",
    "- DLinear : Decomposition Linear -> trend와 seasonality 패턴을 핸들링\n",
    "- NLinear : 정규화된 Linear로서 train-test set 분포 변화를 다룬다. "
   ]
  },
  {
   "cell_type": "code",
   "execution_count": 38,
   "metadata": {},
   "outputs": [],
   "source": [
    "import pandas as pd \n",
    "import numpy as np\n",
    "import torch\n",
    "import torch.nn as nn\n",
    "import torch.nn.functional as F\n",
    "import numpy as np\n",
    "from torch.utils.data import DataLoader\n",
    "from torch.utils.data import Dataset\n",
    "\n",
    "\n",
    "from sklearn.model_selection import train_test_split\n",
    "\n",
    "\n",
    "import warnings\n",
    "warnings.filterwarnings('ignore')\n",
    "\n",
    "import time\n",
    "import random\n",
    "from tqdm import tqdm\n",
    "import matplotlib.pyplot as plt\n",
    "\n",
    "from sklearn.preprocessing import StandardScaler, MinMaxScaler, RobustScaler\n"
   ]
  },
  {
   "cell_type": "markdown",
   "metadata": {},
   "source": [
    "### (1) Linear\n",
    "- 단 하나의 선형 레이어로 구성된 모델이지만 트랜스포머 모델보다 성능이 우수하다."
   ]
  },
  {
   "cell_type": "code",
   "execution_count": 2,
   "metadata": {},
   "outputs": [],
   "source": [
    "class LTSF_Linear(torch.nn.Module):\n",
    "    def __init__(self, window_size, forcast_size, individual, feature_size):\n",
    "        super(LTSF_Linear, self).__init__()\n",
    "        self.window_size = window_size\n",
    "        self.forcast_size  = forcast_size\n",
    "        self.individual = individual  # ????\n",
    "        self.channels = feature_size\n",
    "        if self.individual: # ?????\n",
    "            self.Linear = torch.nn.ModuleList() # python List와\n",
    "            for i in range(self.channels):\n",
    "                self.Linear.append(torch.nn.Linear(self.window_size, self.forcast_size))\n",
    "        else:\n",
    "            self.Linear = torch.nn.Linear(self.window_size, self.forcast_size)\n",
    "\n",
    "        \n",
    "    def forward(self, x): # 모델이 학습 데이터를 입력받아서 forward 연산을 진행시키는 함수\n",
    "        if self.individual:\n",
    "            output = torch.zeros([x.size(0), self.pred_len, x.size(2)], dtype=x.dtype).to(x.device)\n",
    "            for i in range(self.channels):\n",
    "                output[:,:,i] = self.Linear[i](x[:,:,i])\n",
    "            x = output\n",
    "        else:\n",
    "            x = self.Linear(x.permute(0,2,1)).permute(0,2,1)\n",
    "        return x"
   ]
  },
  {
   "cell_type": "markdown",
   "metadata": {},
   "source": [
    "### (2) DLinear\n",
    "- DLinear : Autoformer와 FEDformer에서 사용되는 시계열 분해 방식을 선형 레이어와 결합한 모델.\n",
    "1) 먼저 이동 평균값을 만들고 이를 제거하여 각각 학습하기 위해 추세와 주기성 데이터로 분해.\n",
    "2) 그런 다음 각 구성 요소에 단일 선형 레이어를 적용하여 학습하고 두 개를 합산하여 최종 예측을 계산\n",
    "3) Dlinear는 시계열 데이터의 명확한 추세와 주기성이 있을 때 바닐라 선형 모델보다 더 나은 성능을 가질 수 있다."
   ]
  },
  {
   "cell_type": "code",
   "execution_count": 5,
   "metadata": {},
   "outputs": [],
   "source": [
    "class moving_avg(torch.nn.Module):\n",
    "    def __init__(self, kernel_size, stride):\n",
    "        super(moving_avg, self).__init__()\n",
    "        self.kernel_size = kernel_size\n",
    "        self.avg = torch.nn.AvgPool1d(kernel_size = kernel_size, stride = stride, padding = 0)\n",
    "\n",
    "    def forward(self, x):\n",
    "        front = x[:, 0:1, :].repeat(1, (self.kernel_size - 1) // 2, 1)\n",
    "        end = x[:, -1:, :].repeat(1, (self.kernel_size -1) //2, 1)\n",
    "        x = torch.cat([front, x, end], dim=1)\n",
    "        x = self.avg(x.permute(0, 2, 1))\n",
    "        x = x.permute(0,2,1)\n",
    "        return x\n",
    "    \n",
    "\n",
    "class series_decomp(torch.nn.Module):\n",
    "    def __init__(self, kernel_size):\n",
    "        super(series_decomp, self).__init__()\n",
    "        self.moving_avg = moving_avg(kernel_size, stride=1)\n",
    "\n",
    "    def forward(self, x):\n",
    "        moving_mean = self.moving_avg(x)\n",
    "        residual = x - moving_mean\n",
    "        return moving_mean, residual\n",
    "    \n",
    "\n",
    "class LTSF_DLinear(torch.nn.Module):\n",
    "    def __init__(self, window_size, forcast_size, kernel_size, individual, feature_size):\n",
    "        super(LTSF_DLinear, self).__init__()\n",
    "        self.window_size = window_size\n",
    "        self.forcast_size = forcast_size\n",
    "        self.decomposition = series_decomp(kernel_size)\n",
    "        self.individual = individual\n",
    "        self.channels = feature_size \n",
    "        if self.individual:\n",
    "            self.Linear_Seasonal = torch.nn.ModuleList() # 리스트 초기화 선언 같은거\n",
    "            self.Linear_Trend = torch.nn.ModuleList()\n",
    "            for i in range(self.channels): # feature_size 만큼\n",
    "                self.Linear_Trend.append(torch.nn.Linear(self.window_size, self.forcast_size))\n",
    "                self.Linear_Trend[i].weight = torch.nn.Parameter((1/self.window_size) * torch.ones([self.forcast_size, self.window_size]))\n",
    "                self.Linear_Seasonal.append(torch.nn.Linear(self.window_size, self.forcast_size))\n",
    "                self.Linear_Seasonal[i].weight = torch.nn.Parameter((1/self.window_size)*torch.ones([self.forcast_size, self.window_size]))\n",
    "        else:\n",
    "            self.Linear_Trend = torch.nn.Linear(self.window_size, self.forcast_size)\n",
    "            self.Linear_Trend.weight = torch.nn.Parameter((1/self.window_size) * torch.ones([self.forcast_size, self.window_size]))\n",
    "            self.Linear_Seasonal = torch.nn.Linear(self.window_size, self.forcast_size)\n",
    "            self.Linear_Seasonal.weight = torch.nn.Parameter((1/self.window_size)*torch.ones([self.forcast_size, self.window_size]))\n",
    "\n",
    "\n",
    "    def forward(self, x):\n",
    "        trend_init, seasonal_init = self.decomposition(x)\n",
    "        trend_init, seasonal_init = trend_init.permute(0, 2, 1), seasonal_init.permute(0, 2, 1)\n",
    "        if self.individual:\n",
    "            trend_output = torch.zeros([trend_init.size(0), trend_init.size(1), self.forcast_size], dtype=trend_init.dtype).to(trend_init.device)\n",
    "            seasonal_output = torch.zeros([seasonal_init.size(0), seasonal_init.size(1), self.forcast_size], dtype=seasonal_init.dtype).to(seasonal_init.device)\n",
    "            for idx in range(self.channels):\n",
    "                trend_output[:, idx, :] = self.Linear_Trend[idx](trend_init[:,idx,:])\n",
    "                seasonal_output[:, idx, :] = self.Linear_Seasonal[idx](seasonal_init[:, idx, :])\n",
    "        else:\n",
    "            trend_output = self.Linear_Trend(trend_init)\n",
    "            seasonal_output = self.Linear_Seasonal(seasonal_init)\n",
    "        x= seasonal_output + trend_output\n",
    "        return x.permute(0, 2, 1)\n"
   ]
  },
  {
   "attachments": {},
   "cell_type": "markdown",
   "metadata": {},
   "source": [
    "### (3) NLinear\n",
    "- 상승하거나 하락하는 추세를 지녔을 경우 학습 데이터의 평균과 분산으로 데이터를 정규화시키면 평가 데이터에 분포 이동이 발생할 수 있음. -> 학습된 모형의 예측값은 분포에서 크게 벗어나기 때문에 예측성능이 하락\n",
    "- 따라서 NLinear 모델은 이를 개선하기 위해 마지막 값을 빼서 모델을 학습시키고 가장 마지막에 그 값을 더해서 실제값이 존재하는 분포로 이동시킨다.\n",
    "- 학습 데이터와 평가 데이터의 분포 차이는 ETth1, ETth2, ILI 벤치마크 데이터셋에서 관찰되었고 실험 결과 높은 성능을 보여줌"
   ]
  },
  {
   "cell_type": "code",
   "execution_count": 6,
   "metadata": {},
   "outputs": [],
   "source": [
    "class LTSF_NLinear(torch.nn.Module):\n",
    "    def __init__(self, window_size, forcast_size, individual, feature_size):\n",
    "        super(LTSF_NLinear, self).__init__()\n",
    "        self.window_size = window_size\n",
    "        self.forcast_size = forcast_size\n",
    "        self.individual = individual\n",
    "        self.channels = feature_size\n",
    "        if self.individual:\n",
    "            self.Linear = torch.nn.ModuleList()\n",
    "            for i in range(self.channels):\n",
    "                self.Linear.append(torch.nn.Linear(self.window_size, self.forcast_size))\n",
    "        else:\n",
    "            self.Linear = torch.nn.Linear(self.window_size, self.forcast_size)\n",
    "\n",
    "    \n",
    "    def forward(self, x):\n",
    "        seq_last = x[:,-1:,:].detach()\n",
    "        x = x - seq_last\n",
    "        if self.individual:\n",
    "            output = torch.zeros([x.size(0), self.forcast_size, x.size(2)], dtype= x.dtype).to(x.device)\n",
    "            for i in range(self.channels):\n",
    "                output[:, :, i] = self.Linear[i](x[:,:,i])\n",
    "            x = output\n",
    "        else:\n",
    "            x = self.Linear(x.permute(0, 2, 1)).permute(0,2,1)\n",
    "        x = x+seq_last\n",
    "        return x"
   ]
  },
  {
   "attachments": {},
   "cell_type": "markdown",
   "metadata": {},
   "source": [
    "### 전력사용량 적용\n",
    "- 사용할 모델은 총 4개로 바닐라 트랜스포머, Linear, DLinear, NLinear\n",
    "- 학습 데이터 전처리의 경우 정규화와 Sliding window를 진행\n",
    "- window_size = 72, forcast size = 24, batch size =32, lr=1e-4, loss = MSE, opt = Adam\n",
    "- 평가 데이터 기준 가장 높은 성능의 모델을 저장하여 실험 진행"
   ]
  },
  {
   "cell_type": "code",
   "execution_count": 48,
   "metadata": {},
   "outputs": [
    {
     "name": "stderr",
     "output_type": "stream",
     "text": [
      "  2%|▏         | 1/50 [00:01<00:55,  1.14s/it]"
     ]
    },
    {
     "name": "stdout",
     "output_type": "stream",
     "text": [
      "valid_loss=0.443, test_loss1475505.250, Model Save\n",
      "epoch = 1, train_loss : 0.006, valid_loss : 0.443, test_loss : 1475505.250\n"
     ]
    },
    {
     "name": "stderr",
     "output_type": "stream",
     "text": [
      "  4%|▍         | 2/50 [00:02<00:53,  1.12s/it]"
     ]
    },
    {
     "name": "stdout",
     "output_type": "stream",
     "text": [
      "valid_loss=0.430, test_loss1453758.625, Model Save\n",
      "epoch = 2, train_loss : 0.003, valid_loss : 0.430, test_loss : 1453758.625\n"
     ]
    },
    {
     "name": "stderr",
     "output_type": "stream",
     "text": [
      "  6%|▌         | 3/50 [00:03<00:52,  1.12s/it]"
     ]
    },
    {
     "name": "stdout",
     "output_type": "stream",
     "text": [
      "valid_loss=0.426, test_loss1443874.625, Model Save\n",
      "epoch = 3, train_loss : 0.003, valid_loss : 0.426, test_loss : 1443874.625\n"
     ]
    },
    {
     "name": "stderr",
     "output_type": "stream",
     "text": [
      "  8%|▊         | 4/50 [00:04<00:51,  1.12s/it]"
     ]
    },
    {
     "name": "stdout",
     "output_type": "stream",
     "text": [
      "epoch = 4, train_loss : 0.003, valid_loss : 0.427, test_loss : 1446531.875\n"
     ]
    },
    {
     "name": "stderr",
     "output_type": "stream",
     "text": [
      " 10%|█         | 5/50 [00:05<00:50,  1.12s/it]"
     ]
    },
    {
     "name": "stdout",
     "output_type": "stream",
     "text": [
      "valid_loss=0.425, test_loss1441433.625, Model Save\n",
      "epoch = 5, train_loss : 0.003, valid_loss : 0.425, test_loss : 1441433.625\n"
     ]
    },
    {
     "name": "stderr",
     "output_type": "stream",
     "text": [
      " 12%|█▏        | 6/50 [00:06<00:49,  1.12s/it]"
     ]
    },
    {
     "name": "stdout",
     "output_type": "stream",
     "text": [
      "epoch = 6, train_loss : 0.003, valid_loss : 0.427, test_loss : 1447002.625\n"
     ]
    },
    {
     "name": "stderr",
     "output_type": "stream",
     "text": [
      " 14%|█▍        | 7/50 [00:07<00:48,  1.12s/it]"
     ]
    },
    {
     "name": "stdout",
     "output_type": "stream",
     "text": [
      "valid_loss=0.424, test_loss1437355.750, Model Save\n",
      "epoch = 7, train_loss : 0.003, valid_loss : 0.424, test_loss : 1437355.750\n"
     ]
    },
    {
     "name": "stderr",
     "output_type": "stream",
     "text": [
      " 16%|█▌        | 8/50 [00:08<00:47,  1.13s/it]"
     ]
    },
    {
     "name": "stdout",
     "output_type": "stream",
     "text": [
      "epoch = 8, train_loss : 0.003, valid_loss : 0.424, test_loss : 1439145.375\n"
     ]
    },
    {
     "name": "stderr",
     "output_type": "stream",
     "text": [
      " 18%|█▊        | 9/50 [00:10<00:45,  1.11s/it]"
     ]
    },
    {
     "name": "stdout",
     "output_type": "stream",
     "text": [
      "valid_loss=0.423, test_loss1436735.125, Model Save\n",
      "epoch = 9, train_loss : 0.003, valid_loss : 0.423, test_loss : 1436735.125\n"
     ]
    },
    {
     "name": "stderr",
     "output_type": "stream",
     "text": [
      " 20%|██        | 10/50 [00:11<00:44,  1.11s/it]"
     ]
    },
    {
     "name": "stdout",
     "output_type": "stream",
     "text": [
      "valid_loss=0.419, test_loss1423070.375, Model Save\n",
      "epoch = 10, train_loss : 0.002, valid_loss : 0.419, test_loss : 1423070.375\n"
     ]
    },
    {
     "name": "stderr",
     "output_type": "stream",
     "text": [
      " 22%|██▏       | 11/50 [00:12<00:43,  1.11s/it]"
     ]
    },
    {
     "name": "stdout",
     "output_type": "stream",
     "text": [
      "epoch = 11, train_loss : 0.003, valid_loss : 0.420, test_loss : 1424733.625\n"
     ]
    },
    {
     "name": "stderr",
     "output_type": "stream",
     "text": [
      " 24%|██▍       | 12/50 [00:13<00:41,  1.10s/it]"
     ]
    },
    {
     "name": "stdout",
     "output_type": "stream",
     "text": [
      "epoch = 12, train_loss : 0.002, valid_loss : 0.423, test_loss : 1432382.375\n"
     ]
    },
    {
     "name": "stderr",
     "output_type": "stream",
     "text": [
      " 26%|██▌       | 13/50 [00:14<00:40,  1.10s/it]"
     ]
    },
    {
     "name": "stdout",
     "output_type": "stream",
     "text": [
      "epoch = 13, train_loss : 0.002, valid_loss : 0.422, test_loss : 1429788.750\n"
     ]
    },
    {
     "name": "stderr",
     "output_type": "stream",
     "text": [
      " 28%|██▊       | 14/50 [00:15<00:39,  1.10s/it]"
     ]
    },
    {
     "name": "stdout",
     "output_type": "stream",
     "text": [
      "epoch = 14, train_loss : 0.002, valid_loss : 0.420, test_loss : 1425979.125\n"
     ]
    },
    {
     "name": "stderr",
     "output_type": "stream",
     "text": [
      " 30%|███       | 15/50 [00:16<00:38,  1.10s/it]"
     ]
    },
    {
     "name": "stdout",
     "output_type": "stream",
     "text": [
      "valid_loss=0.418, test_loss1420259.000, Model Save\n",
      "epoch = 15, train_loss : 0.003, valid_loss : 0.418, test_loss : 1420259.000\n"
     ]
    },
    {
     "name": "stderr",
     "output_type": "stream",
     "text": [
      " 32%|███▏      | 16/50 [00:17<00:37,  1.10s/it]"
     ]
    },
    {
     "name": "stdout",
     "output_type": "stream",
     "text": [
      "valid_loss=0.415, test_loss1411301.875, Model Save\n",
      "epoch = 16, train_loss : 0.003, valid_loss : 0.415, test_loss : 1411301.875\n"
     ]
    },
    {
     "name": "stderr",
     "output_type": "stream",
     "text": [
      " 34%|███▍      | 17/50 [00:18<00:36,  1.10s/it]"
     ]
    },
    {
     "name": "stdout",
     "output_type": "stream",
     "text": [
      "epoch = 17, train_loss : 0.003, valid_loss : 0.421, test_loss : 1426812.250\n"
     ]
    },
    {
     "name": "stderr",
     "output_type": "stream",
     "text": [
      " 36%|███▌      | 18/50 [00:19<00:35,  1.10s/it]"
     ]
    },
    {
     "name": "stdout",
     "output_type": "stream",
     "text": [
      "epoch = 18, train_loss : 0.002, valid_loss : 0.422, test_loss : 1428657.125\n"
     ]
    },
    {
     "name": "stderr",
     "output_type": "stream",
     "text": [
      " 38%|███▊      | 19/50 [00:21<00:34,  1.10s/it]"
     ]
    },
    {
     "name": "stdout",
     "output_type": "stream",
     "text": [
      "epoch = 19, train_loss : 0.003, valid_loss : 0.422, test_loss : 1430581.250\n"
     ]
    },
    {
     "name": "stderr",
     "output_type": "stream",
     "text": [
      " 40%|████      | 20/50 [00:22<00:32,  1.10s/it]"
     ]
    },
    {
     "name": "stdout",
     "output_type": "stream",
     "text": [
      "epoch = 20, train_loss : 0.003, valid_loss : 0.418, test_loss : 1415733.000\n"
     ]
    },
    {
     "name": "stderr",
     "output_type": "stream",
     "text": [
      " 42%|████▏     | 21/50 [00:23<00:31,  1.09s/it]"
     ]
    },
    {
     "name": "stdout",
     "output_type": "stream",
     "text": [
      "epoch = 21, train_loss : 0.002, valid_loss : 0.416, test_loss : 1412259.375\n"
     ]
    },
    {
     "name": "stderr",
     "output_type": "stream",
     "text": [
      " 44%|████▍     | 22/50 [00:24<00:30,  1.09s/it]"
     ]
    },
    {
     "name": "stdout",
     "output_type": "stream",
     "text": [
      "valid_loss=0.415, test_loss1409077.875, Model Save\n",
      "epoch = 22, train_loss : 0.002, valid_loss : 0.415, test_loss : 1409077.875\n"
     ]
    },
    {
     "name": "stderr",
     "output_type": "stream",
     "text": [
      " 46%|████▌     | 23/50 [00:25<00:29,  1.10s/it]"
     ]
    },
    {
     "name": "stdout",
     "output_type": "stream",
     "text": [
      "epoch = 23, train_loss : 0.002, valid_loss : 0.421, test_loss : 1427346.250\n"
     ]
    },
    {
     "name": "stderr",
     "output_type": "stream",
     "text": [
      " 48%|████▊     | 24/50 [00:26<00:28,  1.09s/it]"
     ]
    },
    {
     "name": "stdout",
     "output_type": "stream",
     "text": [
      "epoch = 24, train_loss : 0.002, valid_loss : 0.421, test_loss : 1426541.500\n"
     ]
    },
    {
     "name": "stderr",
     "output_type": "stream",
     "text": [
      " 50%|█████     | 25/50 [00:27<00:27,  1.09s/it]"
     ]
    },
    {
     "name": "stdout",
     "output_type": "stream",
     "text": [
      "epoch = 25, train_loss : 0.002, valid_loss : 0.419, test_loss : 1418907.125\n"
     ]
    },
    {
     "name": "stderr",
     "output_type": "stream",
     "text": [
      " 52%|█████▏    | 26/50 [00:28<00:26,  1.09s/it]"
     ]
    },
    {
     "name": "stdout",
     "output_type": "stream",
     "text": [
      "epoch = 26, train_loss : 0.002, valid_loss : 0.419, test_loss : 1418703.875\n"
     ]
    },
    {
     "name": "stderr",
     "output_type": "stream",
     "text": [
      " 54%|█████▍    | 27/50 [00:29<00:25,  1.09s/it]"
     ]
    },
    {
     "name": "stdout",
     "output_type": "stream",
     "text": [
      "epoch = 27, train_loss : 0.002, valid_loss : 0.418, test_loss : 1414837.125\n"
     ]
    },
    {
     "name": "stderr",
     "output_type": "stream",
     "text": [
      " 56%|█████▌    | 28/50 [00:30<00:24,  1.09s/it]"
     ]
    },
    {
     "name": "stdout",
     "output_type": "stream",
     "text": [
      "epoch = 28, train_loss : 0.002, valid_loss : 0.418, test_loss : 1414967.000\n"
     ]
    },
    {
     "name": "stderr",
     "output_type": "stream",
     "text": [
      " 58%|█████▊    | 29/50 [00:31<00:22,  1.09s/it]"
     ]
    },
    {
     "name": "stdout",
     "output_type": "stream",
     "text": [
      "epoch = 29, train_loss : 0.002, valid_loss : 0.419, test_loss : 1416808.500\n"
     ]
    },
    {
     "name": "stderr",
     "output_type": "stream",
     "text": [
      " 60%|██████    | 30/50 [00:33<00:21,  1.09s/it]"
     ]
    },
    {
     "name": "stdout",
     "output_type": "stream",
     "text": [
      "epoch = 30, train_loss : 0.002, valid_loss : 0.418, test_loss : 1414228.250\n"
     ]
    },
    {
     "name": "stderr",
     "output_type": "stream",
     "text": [
      " 62%|██████▏   | 31/50 [00:34<00:20,  1.09s/it]"
     ]
    },
    {
     "name": "stdout",
     "output_type": "stream",
     "text": [
      "epoch = 31, train_loss : 0.002, valid_loss : 0.416, test_loss : 1408414.625\n"
     ]
    },
    {
     "name": "stderr",
     "output_type": "stream",
     "text": [
      " 64%|██████▍   | 32/50 [00:35<00:19,  1.09s/it]"
     ]
    },
    {
     "name": "stdout",
     "output_type": "stream",
     "text": [
      "epoch = 32, train_loss : 0.002, valid_loss : 0.418, test_loss : 1414109.250\n"
     ]
    },
    {
     "name": "stderr",
     "output_type": "stream",
     "text": [
      " 66%|██████▌   | 33/50 [00:36<00:18,  1.09s/it]"
     ]
    },
    {
     "name": "stdout",
     "output_type": "stream",
     "text": [
      "epoch = 33, train_loss : 0.002, valid_loss : 0.418, test_loss : 1413595.250\n"
     ]
    },
    {
     "name": "stderr",
     "output_type": "stream",
     "text": [
      " 68%|██████▊   | 34/50 [00:37<00:17,  1.09s/it]"
     ]
    },
    {
     "name": "stdout",
     "output_type": "stream",
     "text": [
      "epoch = 34, train_loss : 0.002, valid_loss : 0.419, test_loss : 1414379.125\n"
     ]
    },
    {
     "name": "stderr",
     "output_type": "stream",
     "text": [
      " 70%|███████   | 35/50 [00:38<00:16,  1.09s/it]"
     ]
    },
    {
     "name": "stdout",
     "output_type": "stream",
     "text": [
      "epoch = 35, train_loss : 0.002, valid_loss : 0.420, test_loss : 1417965.625\n"
     ]
    },
    {
     "name": "stderr",
     "output_type": "stream",
     "text": [
      " 72%|███████▏  | 36/50 [00:39<00:15,  1.10s/it]"
     ]
    },
    {
     "name": "stdout",
     "output_type": "stream",
     "text": [
      "epoch = 36, train_loss : 0.002, valid_loss : 0.423, test_loss : 1427678.750\n"
     ]
    },
    {
     "name": "stderr",
     "output_type": "stream",
     "text": [
      " 74%|███████▍  | 37/50 [00:40<00:14,  1.10s/it]"
     ]
    },
    {
     "name": "stdout",
     "output_type": "stream",
     "text": [
      "epoch = 37, train_loss : 0.002, valid_loss : 0.420, test_loss : 1417331.375\n"
     ]
    },
    {
     "name": "stderr",
     "output_type": "stream",
     "text": [
      " 76%|███████▌  | 38/50 [00:41<00:13,  1.10s/it]"
     ]
    },
    {
     "name": "stdout",
     "output_type": "stream",
     "text": [
      "epoch = 38, train_loss : 0.002, valid_loss : 0.422, test_loss : 1423422.625\n"
     ]
    },
    {
     "name": "stderr",
     "output_type": "stream",
     "text": [
      " 78%|███████▊  | 39/50 [00:42<00:12,  1.10s/it]"
     ]
    },
    {
     "name": "stdout",
     "output_type": "stream",
     "text": [
      "epoch = 39, train_loss : 0.002, valid_loss : 0.421, test_loss : 1419285.125\n"
     ]
    },
    {
     "name": "stderr",
     "output_type": "stream",
     "text": [
      " 80%|████████  | 40/50 [00:44<00:11,  1.10s/it]"
     ]
    },
    {
     "name": "stdout",
     "output_type": "stream",
     "text": [
      "epoch = 40, train_loss : 0.002, valid_loss : 0.417, test_loss : 1410062.250\n"
     ]
    },
    {
     "name": "stderr",
     "output_type": "stream",
     "text": [
      " 82%|████████▏ | 41/50 [00:45<00:09,  1.10s/it]"
     ]
    },
    {
     "name": "stdout",
     "output_type": "stream",
     "text": [
      "epoch = 41, train_loss : 0.002, valid_loss : 0.418, test_loss : 1412475.500\n"
     ]
    },
    {
     "name": "stderr",
     "output_type": "stream",
     "text": [
      " 84%|████████▍ | 42/50 [00:46<00:08,  1.10s/it]"
     ]
    },
    {
     "name": "stdout",
     "output_type": "stream",
     "text": [
      "epoch = 42, train_loss : 0.002, valid_loss : 0.418, test_loss : 1412663.625\n"
     ]
    },
    {
     "name": "stderr",
     "output_type": "stream",
     "text": [
      " 86%|████████▌ | 43/50 [00:47<00:07,  1.09s/it]"
     ]
    },
    {
     "name": "stdout",
     "output_type": "stream",
     "text": [
      "epoch = 43, train_loss : 0.002, valid_loss : 0.423, test_loss : 1424213.250\n"
     ]
    },
    {
     "name": "stderr",
     "output_type": "stream",
     "text": [
      " 88%|████████▊ | 44/50 [00:48<00:06,  1.09s/it]"
     ]
    },
    {
     "name": "stdout",
     "output_type": "stream",
     "text": [
      "epoch = 44, train_loss : 0.002, valid_loss : 0.420, test_loss : 1415456.750\n"
     ]
    },
    {
     "name": "stderr",
     "output_type": "stream",
     "text": [
      " 90%|█████████ | 45/50 [00:49<00:05,  1.09s/it]"
     ]
    },
    {
     "name": "stdout",
     "output_type": "stream",
     "text": [
      "epoch = 45, train_loss : 0.002, valid_loss : 0.420, test_loss : 1416964.000\n"
     ]
    },
    {
     "name": "stderr",
     "output_type": "stream",
     "text": [
      " 92%|█████████▏| 46/50 [00:50<00:04,  1.09s/it]"
     ]
    },
    {
     "name": "stdout",
     "output_type": "stream",
     "text": [
      "epoch = 46, train_loss : 0.002, valid_loss : 0.420, test_loss : 1416031.375\n"
     ]
    },
    {
     "name": "stderr",
     "output_type": "stream",
     "text": [
      " 94%|█████████▍| 47/50 [00:51<00:03,  1.09s/it]"
     ]
    },
    {
     "name": "stdout",
     "output_type": "stream",
     "text": [
      "epoch = 47, train_loss : 0.002, valid_loss : 0.421, test_loss : 1418903.875\n"
     ]
    },
    {
     "name": "stderr",
     "output_type": "stream",
     "text": [
      " 96%|█████████▌| 48/50 [00:52<00:02,  1.09s/it]"
     ]
    },
    {
     "name": "stdout",
     "output_type": "stream",
     "text": [
      "epoch = 48, train_loss : 0.002, valid_loss : 0.420, test_loss : 1414548.875\n"
     ]
    },
    {
     "name": "stderr",
     "output_type": "stream",
     "text": [
      " 98%|█████████▊| 49/50 [00:53<00:01,  1.09s/it]"
     ]
    },
    {
     "name": "stdout",
     "output_type": "stream",
     "text": [
      "epoch = 49, train_loss : 0.002, valid_loss : 0.419, test_loss : 1412250.500\n"
     ]
    },
    {
     "name": "stderr",
     "output_type": "stream",
     "text": [
      "100%|██████████| 50/50 [00:54<00:00,  1.10s/it]"
     ]
    },
    {
     "name": "stdout",
     "output_type": "stream",
     "text": [
      "epoch = 50, train_loss : 0.002, valid_loss : 0.421, test_loss : 1416297.750\n"
     ]
    },
    {
     "name": "stderr",
     "output_type": "stream",
     "text": [
      "\n"
     ]
    }
   ],
   "source": [
    "# 정규화\n",
    "def standardization(train_df, test_df, not_col, target):\n",
    "    train_df_ = train_df.copy()\n",
    "    test_df_ = test_df.copy()\n",
    "    col =  [col for col in list(train_df.columns) if col not in [not_col]]\n",
    "    mean_list = []\n",
    "    std_list = []\n",
    "    for x in col:\n",
    "        mean, std = train_df_.agg([\"mean\", \"std\"]).loc[:,x]\n",
    "        mean_list.append(mean)\n",
    "        std_list.append(std)\n",
    "        train_df_.loc[:, x] = (train_df_[x] - mean) / std\n",
    "\n",
    "        if x ==target: # 테스트 데이터셋에서는 target이 없다.\n",
    "            continue\n",
    "        else:\n",
    "            test_df_.loc[:, x] = (test_df_[x] - mean) / std\n",
    "    return train_df_, test_df_, mean_list[col.index(target)], std_list[col.index(target)]\n",
    "\n",
    "\n",
    "# sliding window\n",
    "def time_slide_df(df, window_size, forcast_size, date, target):\n",
    "    df_ = df.copy()\n",
    "    data_list = []\n",
    "    dap_list = []\n",
    "    date_list = []\n",
    "    for idx in range(0, df_.shape[0]-window_size-forcast_size+1):\n",
    "        x = df_.loc[idx:idx+window_size-1, target].values.reshape(window_size, 1)\n",
    "        y = df_.loc[idx+window_size:idx+window_size+forcast_size-1, target].values\n",
    "        date_ = df_.loc[idx+window_size:idx+window_size+forcast_size-1, date].values\n",
    "        data_list.append(x)\n",
    "        dap_list.append(y)\n",
    "        date_list.append(date_)\n",
    "    return np.array(data_list, dtype='float32'), np.array(dap_list, dtype='float32'), np.array(date_list)\n",
    "\n",
    "\n",
    "class Data(Dataset):\n",
    "    def __init__(self, X, Y):\n",
    "        self.X = X\n",
    "        self.Y = Y\n",
    "\n",
    "    def __len__(self):\n",
    "        return len(self.Y)\n",
    "    \n",
    "    def __getitem__(self, idx):\n",
    "        return self.X[idx], self.Y[idx]\n",
    "    \n",
    "\n",
    "### Univariable ###\n",
    "### 데이터 셋 생성 ###\n",
    "window_size = 72\n",
    "forcast_size = 720\n",
    "batch_size = 32\n",
    "targets = '전력사용량'\n",
    "date = 'date_time'\n",
    "\n",
    "\n",
    "\n",
    "# 데이터 불러오기 \n",
    "train = pd.read_csv('./data/train.csv', encoding='cp949')\n",
    "# test_df = pd.read_csv('./data/test.csv', encoding='cp949') 타겟값 없으니까 제외\n",
    "\n",
    "train_df, test_df = train_test_split(train, test_size=0.2, random_state=311, shuffle=False)\n",
    "train_df.reset_index(drop=True, inplace=True)\n",
    "test_df.reset_index(drop=True, inplace=True)\n",
    "\n",
    "# 컬럼 전처리 하기\n",
    "\n",
    "for col_nm in train_df.columns:\n",
    "    if '(' in col_nm:\n",
    "        new_col_nm = col_nm.split('(')[0]\n",
    "        train_df.rename(columns = {col_nm : new_col_nm}, inplace=True)\n",
    "\n",
    "\n",
    "for col_nm in test_df.columns:\n",
    "    if '(' in col_nm:\n",
    "        new_col_nm = col_nm.split('(')[0]\n",
    "        test_df.rename(columns = {col_nm : new_col_nm}, inplace=True)\n",
    "\n",
    "# 정규화\n",
    "train_df_fe, test_df_fe, mean, std = standardization(train_df, test_df, 'date_time', targets)\n",
    "\n",
    "\n",
    "\n",
    "# sliding window -> 타겟값만 대상으로 데이터셋 재구성\n",
    "train_x, train_y, train_date = time_slide_df(train_df_fe, window_size, forcast_size, date, targets)\n",
    "test_x, test_y, test_date = time_slide_df(test_df_fe, window_size, forcast_size, date, targets)\n",
    "\n",
    "\n",
    "\n",
    "\n",
    "# train & valid & test split\n",
    "train_ds = Data(train_x[:1000], train_y[:1000])\n",
    "valid_ds = Data(train_x[1000:], train_y[1000:])\n",
    "test_ds = Data(test_x, test_y)\n",
    "\n",
    "\n",
    "# DataLoader 모듈 사용\n",
    "train_dl = DataLoader(train_ds, batch_size = batch_size, shuffle=True,) # shuffle True 해도 되나?\n",
    "valid_dl = DataLoader(valid_ds, batch_size=train_x[1000:].shape[0], shuffle=False )\n",
    "test_dl = DataLoader(test_ds, batch_size = test_x.shape[0], shuffle=False)\n",
    "\n",
    "\n",
    "### 모델 학습 ###\n",
    "train_loss_list = []\n",
    "valid_loss_list = []\n",
    "test_loss_list = []\n",
    "epoch = 50\n",
    "lr = 0.001\n",
    "DLinear_model = LTSF_DLinear(\n",
    "    window_size = window_size,\n",
    "    forcast_size = forcast_size,\n",
    "    kernel_size = 25, # 왜 kernel_size는 25일까\n",
    "    individual = False,\n",
    "    feature_size=1,\n",
    ")\n",
    "\n",
    "\n",
    "criterion = torch.nn.MSELoss() # 모델 성능 기준\n",
    "optimizer = torch.optim.Adam(DLinear_model.parameters(), lr = lr)\n",
    "max_loss = 999999999\n",
    "\n",
    "\n",
    "##################################################### 학습 ###################################################\n",
    "for epoch in tqdm(range(1, epoch+1)):\n",
    "    loss_list = []\n",
    "    DLinear_model.train() # sets the module in training mode \n",
    "    for batch_idx, (data, target) in enumerate(train_dl):\n",
    "        optimizer.zero_grad() # pytorch에서는 gradients 값들을 추후에 backward를 해줄 때 계속 더해주기 때문에 항상 backpropagation을 하기전에 gradients를 zero로 만들어주고 시작해야한다.\n",
    "        output = DLinear_model(data)\n",
    "        loss = criterion(output, target.unsqueeze(-1)) # -1은 인덱스상으로 마지막 차원을 의미. 마지막 차원에 1인 차원을 추가. 원래 크기가 (3,)이라고 할 때 (3,1)의 크기를 갖게 된다. (암튼 차원이 추가된다.)\n",
    "        loss.backward() # backward를 통해 gradient를 계싼\n",
    "        optimizer.step() # \n",
    "        loss_list.append(loss.item())\n",
    "    train_loss_list.append(np.mean(loss_list))\n",
    "\n",
    "    DLinear_model.eval() # 모듈을 evaluation mode로 세팅. \n",
    "    with torch.no_grad(): # 이렇게 작성하면 pytorch는 autograd engine을 꺼버린다. 즉 더이상 자동으로 gradient를 트래킹하지 않는다는 말. 주된 목적은 autograd를 끔으로써 메모리 사용량을 줄이고 연산속도를 높이기 위함\n",
    "        for data, target in valid_dl:\n",
    "            output = DLinear_model(data)\n",
    "            valid_loss = criterion(output, target.unsqueeze(-1))\n",
    "            valid_loss_list.append(valid_loss)\n",
    "\n",
    "\n",
    "        # 이 코드는 실행 안될거다. 왜냐면 test_dl에 \n",
    "        for data, target in test_dl:\n",
    "            output = DLinear_model(data)\n",
    "            test_loss = criterion(output, target.unsqueeze(-1)) # 이부분 수행 불가능할거다 -> 원래는 불가능한데 타겟값 있게 만들어줘서 가능\n",
    "            test_loss_list.append(test_loss) # 이 부분 수행 불가능할거다 -> 원래는 불가능한데 타겟값 있게 만들어줘서 가능\n",
    "\n",
    "    if valid_loss < max_loss:\n",
    "        torch.save(DLinear_model, './model/DLinear_model.pth') # Pytorch에서는 모델을 저장할 때 .pt 또는 .pth 확장자를 사용하는 것이 일반적인 규칙\n",
    "        max_loss = valid_loss\n",
    "        print(\"valid_loss={:.3f}, test_loss{:.3f}, Model Save\".format(valid_loss, test_loss))\n",
    "        dlinear_best_epoch = epoch\n",
    "        dlinear_best_train_loss = np.mean(loss_list)\n",
    "        dlinear_best_valid_loss = np.mean(valid_loss.item())\n",
    "        dlinear_best_test_loss = np.mean(test_loss.item())\n",
    "\n",
    "    print(\"epoch = {}, train_loss : {:.3f}, valid_loss : {:.3f}, test_loss : {:.3f}\".format(epoch, np.mean(loss_list), valid_loss, test_loss))\n",
    "\n",
    "\n",
    "\n",
    "\n",
    "\n",
    "\n",
    "\n",
    "\n",
    "\n",
    "    "
   ]
  },
  {
   "cell_type": "code",
   "execution_count": 49,
   "metadata": {},
   "outputs": [
    {
     "data": {
      "image/png": "[encoded data removed]",
      "text/plain": [
       "<Figure size 640x480 with 2 Axes>"
      ]
     },
     "metadata": {},
     "output_type": "display_data"
    },
    {
     "data": {
      "image/png": "[encoded data removed]",
      "text/plain": [
       "<Figure size 640x480 with 2 Axes>"
      ]
     },
     "metadata": {},
     "output_type": "display_data"
    }
   ],
   "source": [
    "weights_list = {}\n",
    "weights_list['trend'] = DLinear_model.Linear_Trend.weight.detach().numpy()\n",
    "weights_list['seasonal'] = DLinear_model.Linear_Seasonal.weight.detach().numpy()\n",
    "\n",
    "for name, w in weights_list.items():    \n",
    "    fig, ax = plt.subplots()    \n",
    "    plt.title(name)\n",
    "    im = ax.imshow(w, cmap='plasma_r',)\n",
    "    fig.colorbar(im, pad=0.03)\n",
    "    plt.show()"
   ]
  },
  {
   "cell_type": "code",
   "execution_count": 43,
   "metadata": {},
   "outputs": [
    {
     "data": {
      "text/html": [
       "<div>\n",
       "<style scoped>\n",
       "    .dataframe tbody tr th:only-of-type {\n",
       "        vertical-align: middle;\n",
       "    }\n",
       "\n",
       "    .dataframe tbody tr th {\n",
       "        vertical-align: top;\n",
       "    }\n",
       "\n",
       "    .dataframe thead th {\n",
       "        text-align: right;\n",
       "    }\n",
       "</style>\n",
       "<table border=\"1\" class=\"dataframe\">\n",
       "  <thead>\n",
       "    <tr style=\"text-align: right;\">\n",
       "      <th></th>\n",
       "      <th>num</th>\n",
       "      <th>date_time</th>\n",
       "      <th>전력사용량</th>\n",
       "      <th>기온</th>\n",
       "      <th>풍속</th>\n",
       "      <th>습도</th>\n",
       "      <th>강수량</th>\n",
       "      <th>일조</th>\n",
       "      <th>비전기냉방설비운영</th>\n",
       "      <th>태양광보유</th>\n",
       "    </tr>\n",
       "  </thead>\n",
       "  <tbody>\n",
       "    <tr>\n",
       "      <th>120718</th>\n",
       "      <td>1.704285</td>\n",
       "      <td>2020-06-15 22</td>\n",
       "      <td>0.383777</td>\n",
       "      <td>-1.453702</td>\n",
       "      <td>1.151239</td>\n",
       "      <td>0.762103</td>\n",
       "      <td>-0.196458</td>\n",
       "      <td>-0.577861</td>\n",
       "      <td>0.680951</td>\n",
       "      <td>1.035511</td>\n",
       "    </tr>\n",
       "    <tr>\n",
       "      <th>119412</th>\n",
       "      <td>1.646586</td>\n",
       "      <td>2020-07-16 12</td>\n",
       "      <td>-0.436787</td>\n",
       "      <td>0.248326</td>\n",
       "      <td>-0.892370</td>\n",
       "      <td>-1.042992</td>\n",
       "      <td>-0.196458</td>\n",
       "      <td>1.309688</td>\n",
       "      <td>0.680951</td>\n",
       "      <td>-0.965697</td>\n",
       "    </tr>\n",
       "    <tr>\n",
       "      <th>39012</th>\n",
       "      <td>-0.603687</td>\n",
       "      <td>2020-06-11 12</td>\n",
       "      <td>-0.426682</td>\n",
       "      <td>1.158031</td>\n",
       "      <td>0.887547</td>\n",
       "      <td>-1.236395</td>\n",
       "      <td>-0.196458</td>\n",
       "      <td>1.848988</td>\n",
       "      <td>-1.468519</td>\n",
       "      <td>-0.965697</td>\n",
       "    </tr>\n",
       "    <tr>\n",
       "      <th>25446</th>\n",
       "      <td>-1.007583</td>\n",
       "      <td>2020-07-11 06</td>\n",
       "      <td>-0.707961</td>\n",
       "      <td>-0.573343</td>\n",
       "      <td>-1.419753</td>\n",
       "      <td>0.633168</td>\n",
       "      <td>-0.196458</td>\n",
       "      <td>-0.577861</td>\n",
       "      <td>0.680951</td>\n",
       "      <td>-0.965697</td>\n",
       "    </tr>\n",
       "    <tr>\n",
       "      <th>4946</th>\n",
       "      <td>-1.584576</td>\n",
       "      <td>2020-07-07 02</td>\n",
       "      <td>0.447912</td>\n",
       "      <td>-0.778760</td>\n",
       "      <td>-0.694602</td>\n",
       "      <td>0.762103</td>\n",
       "      <td>-0.196458</td>\n",
       "      <td>-0.577861</td>\n",
       "      <td>0.680951</td>\n",
       "      <td>1.035511</td>\n",
       "    </tr>\n",
       "    <tr>\n",
       "      <th>...</th>\n",
       "      <td>...</td>\n",
       "      <td>...</td>\n",
       "      <td>...</td>\n",
       "      <td>...</td>\n",
       "      <td>...</td>\n",
       "      <td>...</td>\n",
       "      <td>...</td>\n",
       "      <td>...</td>\n",
       "      <td>...</td>\n",
       "      <td>...</td>\n",
       "    </tr>\n",
       "    <tr>\n",
       "      <th>109880</th>\n",
       "      <td>1.358089</td>\n",
       "      <td>2020-08-13 08</td>\n",
       "      <td>3.220801</td>\n",
       "      <td>0.805887</td>\n",
       "      <td>0.096473</td>\n",
       "      <td>0.697635</td>\n",
       "      <td>-0.196458</td>\n",
       "      <td>-0.577861</td>\n",
       "      <td>0.680951</td>\n",
       "      <td>-0.965697</td>\n",
       "    </tr>\n",
       "    <tr>\n",
       "      <th>41958</th>\n",
       "      <td>-0.545988</td>\n",
       "      <td>2020-07-19 06</td>\n",
       "      <td>-0.552073</td>\n",
       "      <td>-0.133163</td>\n",
       "      <td>0.162396</td>\n",
       "      <td>-0.656186</td>\n",
       "      <td>-0.196458</td>\n",
       "      <td>-0.577861</td>\n",
       "      <td>-1.468519</td>\n",
       "      <td>1.035511</td>\n",
       "    </tr>\n",
       "    <tr>\n",
       "      <th>87133</th>\n",
       "      <td>0.723397</td>\n",
       "      <td>2020-07-31 13</td>\n",
       "      <td>0.054043</td>\n",
       "      <td>1.304757</td>\n",
       "      <td>-0.299064</td>\n",
       "      <td>-0.333847</td>\n",
       "      <td>-0.196458</td>\n",
       "      <td>-0.577861</td>\n",
       "      <td>0.680951</td>\n",
       "      <td>1.035511</td>\n",
       "    </tr>\n",
       "    <tr>\n",
       "      <th>84672</th>\n",
       "      <td>0.665698</td>\n",
       "      <td>2020-07-14 00</td>\n",
       "      <td>-0.775802</td>\n",
       "      <td>-1.805846</td>\n",
       "      <td>0.162396</td>\n",
       "      <td>1.084441</td>\n",
       "      <td>2.686215</td>\n",
       "      <td>-0.577861</td>\n",
       "      <td>0.680951</td>\n",
       "      <td>1.035511</td>\n",
       "    </tr>\n",
       "    <tr>\n",
       "      <th>44964</th>\n",
       "      <td>-0.430589</td>\n",
       "      <td>2020-06-04 12</td>\n",
       "      <td>-0.000153</td>\n",
       "      <td>0.952613</td>\n",
       "      <td>0.426087</td>\n",
       "      <td>-1.429798</td>\n",
       "      <td>-0.196458</td>\n",
       "      <td>2.118638</td>\n",
       "      <td>-1.468519</td>\n",
       "      <td>1.035511</td>\n",
       "    </tr>\n",
       "  </tbody>\n",
       "</table>\n",
       "<p>97920 rows × 10 columns</p>\n",
       "</div>"
      ],
      "text/plain": [
       "             num      date_time     전력사용량        기온        풍속        습도  \\\n",
       "120718  1.704285  2020-06-15 22  0.383777 -1.453702  1.151239  0.762103   \n",
       "119412  1.646586  2020-07-16 12 -0.436787  0.248326 -0.892370 -1.042992   \n",
       "39012  -0.603687  2020-06-11 12 -0.426682  1.158031  0.887547 -1.236395   \n",
       "25446  -1.007583  2020-07-11 06 -0.707961 -0.573343 -1.419753  0.633168   \n",
       "4946   -1.584576  2020-07-07 02  0.447912 -0.778760 -0.694602  0.762103   \n",
       "...          ...            ...       ...       ...       ...       ...   \n",
       "109880  1.358089  2020-08-13 08  3.220801  0.805887  0.096473  0.697635   \n",
       "41958  -0.545988  2020-07-19 06 -0.552073 -0.133163  0.162396 -0.656186   \n",
       "87133   0.723397  2020-07-31 13  0.054043  1.304757 -0.299064 -0.333847   \n",
       "84672   0.665698  2020-07-14 00 -0.775802 -1.805846  0.162396  1.084441   \n",
       "44964  -0.430589  2020-06-04 12 -0.000153  0.952613  0.426087 -1.429798   \n",
       "\n",
       "             강수량        일조  비전기냉방설비운영     태양광보유  \n",
       "120718 -0.196458 -0.577861   0.680951  1.035511  \n",
       "119412 -0.196458  1.309688   0.680951 -0.965697  \n",
       "39012  -0.196458  1.848988  -1.468519 -0.965697  \n",
       "25446  -0.196458 -0.577861   0.680951 -0.965697  \n",
       "4946   -0.196458 -0.577861   0.680951  1.035511  \n",
       "...          ...       ...        ...       ...  \n",
       "109880 -0.196458 -0.577861   0.680951 -0.965697  \n",
       "41958  -0.196458 -0.577861  -1.468519  1.035511  \n",
       "87133  -0.196458 -0.577861   0.680951  1.035511  \n",
       "84672   2.686215 -0.577861   0.680951  1.035511  \n",
       "44964  -0.196458  2.118638  -1.468519  1.035511  \n",
       "\n",
       "[97920 rows x 10 columns]"
      ]
     },
     "metadata": {},
     "output_type": "display_data"
    },
    {
     "ename": "KeyError",
     "evalue": "'전력사용량(kWh)'",
     "output_type": "error",
     "traceback": [
      "\u001b[1;31m---------------------------------------------------------------------------\u001b[0m",
      "\u001b[1;31mKeyError\u001b[0m                                  Traceback (most recent call last)",
      "File \u001b[1;32mc:\\Users\\user\\Documents\\GitHub\\Automated-Trading-Systems\\.venv\\Lib\\site-packages\\pandas\\core\\indexes\\base.py:3802\u001b[0m, in \u001b[0;36mIndex.get_loc\u001b[1;34m(self, key, method, tolerance)\u001b[0m\n\u001b[0;32m   3801\u001b[0m \u001b[39mtry\u001b[39;00m:\n\u001b[1;32m-> 3802\u001b[0m     \u001b[39mreturn\u001b[39;00m \u001b[39mself\u001b[39;49m\u001b[39m.\u001b[39;49m_engine\u001b[39m.\u001b[39;49mget_loc(casted_key)\n\u001b[0;32m   3803\u001b[0m \u001b[39mexcept\u001b[39;00m \u001b[39mKeyError\u001b[39;00m \u001b[39mas\u001b[39;00m err:\n",
      "File \u001b[1;32mc:\\Users\\user\\Documents\\GitHub\\Automated-Trading-Systems\\.venv\\Lib\\site-packages\\pandas\\_libs\\index.pyx:138\u001b[0m, in \u001b[0;36mpandas._libs.index.IndexEngine.get_loc\u001b[1;34m()\u001b[0m\n",
      "File \u001b[1;32mc:\\Users\\user\\Documents\\GitHub\\Automated-Trading-Systems\\.venv\\Lib\\site-packages\\pandas\\_libs\\index.pyx:165\u001b[0m, in \u001b[0;36mpandas._libs.index.IndexEngine.get_loc\u001b[1;34m()\u001b[0m\n",
      "File \u001b[1;32mpandas\\_libs\\hashtable_class_helper.pxi:5745\u001b[0m, in \u001b[0;36mpandas._libs.hashtable.PyObjectHashTable.get_item\u001b[1;34m()\u001b[0m\n",
      "File \u001b[1;32mpandas\\_libs\\hashtable_class_helper.pxi:5753\u001b[0m, in \u001b[0;36mpandas._libs.hashtable.PyObjectHashTable.get_item\u001b[1;34m()\u001b[0m\n",
      "\u001b[1;31mKeyError\u001b[0m: '전력사용량(kWh)'",
      "\nThe above exception was the direct cause of the following exception:\n",
      "\u001b[1;31mKeyError\u001b[0m                                  Traceback (most recent call last)",
      "Cell \u001b[1;32mIn[43], line 12\u001b[0m\n\u001b[0;32m     10\u001b[0m date_list \u001b[39m=\u001b[39m []\n\u001b[0;32m     11\u001b[0m \u001b[39mfor\u001b[39;00m idx \u001b[39min\u001b[39;00m \u001b[39mrange\u001b[39m(\u001b[39m0\u001b[39m, df\u001b[39m.\u001b[39mshape[\u001b[39m0\u001b[39m]\u001b[39m-\u001b[39mwindow_size, forcast_size\u001b[39m+\u001b[39m\u001b[39m1\u001b[39m):\n\u001b[1;32m---> 12\u001b[0m     x \u001b[39m=\u001b[39m df\u001b[39m.\u001b[39;49mloc[idx:idx\u001b[39m+\u001b[39;49mwindow_size\u001b[39m-\u001b[39;49m\u001b[39m1\u001b[39;49m, target]\u001b[39m.\u001b[39mvalues\u001b[39m.\u001b[39mreshape(window_size, \u001b[39m1\u001b[39m)\n\u001b[0;32m     13\u001b[0m     y \u001b[39m=\u001b[39m df\u001b[39m.\u001b[39mloc[idx\u001b[39m+\u001b[39mwindow_size:idx\u001b[39m+\u001b[39mwindow_size\u001b[39m+\u001b[39mforcast_size\u001b[39m-\u001b[39m\u001b[39m1\u001b[39m, target]\u001b[39m.\u001b[39mvalues\n\u001b[0;32m     14\u001b[0m     date_ \u001b[39m=\u001b[39m df\u001b[39m.\u001b[39mloc[idx\u001b[39m+\u001b[39mwindow_size:idx\u001b[39m+\u001b[39mwindow_size\u001b[39m+\u001b[39mforcast_size\u001b[39m-\u001b[39m\u001b[39m1\u001b[39m,date]\u001b[39m.\u001b[39mvalues\n",
      "File \u001b[1;32mc:\\Users\\user\\Documents\\GitHub\\Automated-Trading-Systems\\.venv\\Lib\\site-packages\\pandas\\core\\indexing.py:1067\u001b[0m, in \u001b[0;36m_LocationIndexer.__getitem__\u001b[1;34m(self, key)\u001b[0m\n\u001b[0;32m   1065\u001b[0m     \u001b[39mif\u001b[39;00m \u001b[39mself\u001b[39m\u001b[39m.\u001b[39m_is_scalar_access(key):\n\u001b[0;32m   1066\u001b[0m         \u001b[39mreturn\u001b[39;00m \u001b[39mself\u001b[39m\u001b[39m.\u001b[39mobj\u001b[39m.\u001b[39m_get_value(\u001b[39m*\u001b[39mkey, takeable\u001b[39m=\u001b[39m\u001b[39mself\u001b[39m\u001b[39m.\u001b[39m_takeable)\n\u001b[1;32m-> 1067\u001b[0m     \u001b[39mreturn\u001b[39;00m \u001b[39mself\u001b[39;49m\u001b[39m.\u001b[39;49m_getitem_tuple(key)\n\u001b[0;32m   1068\u001b[0m \u001b[39melse\u001b[39;00m:\n\u001b[0;32m   1069\u001b[0m     \u001b[39m# we by definition only have the 0th axis\u001b[39;00m\n\u001b[0;32m   1070\u001b[0m     axis \u001b[39m=\u001b[39m \u001b[39mself\u001b[39m\u001b[39m.\u001b[39maxis \u001b[39mor\u001b[39;00m \u001b[39m0\u001b[39m\n",
      "File \u001b[1;32mc:\\Users\\user\\Documents\\GitHub\\Automated-Trading-Systems\\.venv\\Lib\\site-packages\\pandas\\core\\indexing.py:1247\u001b[0m, in \u001b[0;36m_LocIndexer._getitem_tuple\u001b[1;34m(self, tup)\u001b[0m\n\u001b[0;32m   1245\u001b[0m \u001b[39mwith\u001b[39;00m suppress(IndexingError):\n\u001b[0;32m   1246\u001b[0m     tup \u001b[39m=\u001b[39m \u001b[39mself\u001b[39m\u001b[39m.\u001b[39m_expand_ellipsis(tup)\n\u001b[1;32m-> 1247\u001b[0m     \u001b[39mreturn\u001b[39;00m \u001b[39mself\u001b[39;49m\u001b[39m.\u001b[39;49m_getitem_lowerdim(tup)\n\u001b[0;32m   1249\u001b[0m \u001b[39m# no multi-index, so validate all of the indexers\u001b[39;00m\n\u001b[0;32m   1250\u001b[0m tup \u001b[39m=\u001b[39m \u001b[39mself\u001b[39m\u001b[39m.\u001b[39m_validate_tuple_indexer(tup)\n",
      "File \u001b[1;32mc:\\Users\\user\\Documents\\GitHub\\Automated-Trading-Systems\\.venv\\Lib\\site-packages\\pandas\\core\\indexing.py:967\u001b[0m, in \u001b[0;36m_LocationIndexer._getitem_lowerdim\u001b[1;34m(self, tup)\u001b[0m\n\u001b[0;32m    963\u001b[0m \u001b[39mfor\u001b[39;00m i, key \u001b[39min\u001b[39;00m \u001b[39menumerate\u001b[39m(tup):\n\u001b[0;32m    964\u001b[0m     \u001b[39mif\u001b[39;00m is_label_like(key):\n\u001b[0;32m    965\u001b[0m         \u001b[39m# We don't need to check for tuples here because those are\u001b[39;00m\n\u001b[0;32m    966\u001b[0m         \u001b[39m#  caught by the _is_nested_tuple_indexer check above.\u001b[39;00m\n\u001b[1;32m--> 967\u001b[0m         section \u001b[39m=\u001b[39m \u001b[39mself\u001b[39;49m\u001b[39m.\u001b[39;49m_getitem_axis(key, axis\u001b[39m=\u001b[39;49mi)\n\u001b[0;32m    969\u001b[0m         \u001b[39m# We should never have a scalar section here, because\u001b[39;00m\n\u001b[0;32m    970\u001b[0m         \u001b[39m#  _getitem_lowerdim is only called after a check for\u001b[39;00m\n\u001b[0;32m    971\u001b[0m         \u001b[39m#  is_scalar_access, which that would be.\u001b[39;00m\n\u001b[0;32m    972\u001b[0m         \u001b[39mif\u001b[39;00m section\u001b[39m.\u001b[39mndim \u001b[39m==\u001b[39m \u001b[39mself\u001b[39m\u001b[39m.\u001b[39mndim:\n\u001b[0;32m    973\u001b[0m             \u001b[39m# we're in the middle of slicing through a MultiIndex\u001b[39;00m\n\u001b[0;32m    974\u001b[0m             \u001b[39m# revise the key wrt to `section` by inserting an _NS\u001b[39;00m\n",
      "File \u001b[1;32mc:\\Users\\user\\Documents\\GitHub\\Automated-Trading-Systems\\.venv\\Lib\\site-packages\\pandas\\core\\indexing.py:1312\u001b[0m, in \u001b[0;36m_LocIndexer._getitem_axis\u001b[1;34m(self, key, axis)\u001b[0m\n\u001b[0;32m   1310\u001b[0m \u001b[39m# fall thru to straight lookup\u001b[39;00m\n\u001b[0;32m   1311\u001b[0m \u001b[39mself\u001b[39m\u001b[39m.\u001b[39m_validate_key(key, axis)\n\u001b[1;32m-> 1312\u001b[0m \u001b[39mreturn\u001b[39;00m \u001b[39mself\u001b[39;49m\u001b[39m.\u001b[39;49m_get_label(key, axis\u001b[39m=\u001b[39;49maxis)\n",
      "File \u001b[1;32mc:\\Users\\user\\Documents\\GitHub\\Automated-Trading-Systems\\.venv\\Lib\\site-packages\\pandas\\core\\indexing.py:1260\u001b[0m, in \u001b[0;36m_LocIndexer._get_label\u001b[1;34m(self, label, axis)\u001b[0m\n\u001b[0;32m   1258\u001b[0m \u001b[39mdef\u001b[39;00m \u001b[39m_get_label\u001b[39m(\u001b[39mself\u001b[39m, label, axis: \u001b[39mint\u001b[39m):\n\u001b[0;32m   1259\u001b[0m     \u001b[39m# GH#5567 this will fail if the label is not present in the axis.\u001b[39;00m\n\u001b[1;32m-> 1260\u001b[0m     \u001b[39mreturn\u001b[39;00m \u001b[39mself\u001b[39;49m\u001b[39m.\u001b[39;49mobj\u001b[39m.\u001b[39;49mxs(label, axis\u001b[39m=\u001b[39;49maxis)\n",
      "File \u001b[1;32mc:\\Users\\user\\Documents\\GitHub\\Automated-Trading-Systems\\.venv\\Lib\\site-packages\\pandas\\core\\generic.py:4041\u001b[0m, in \u001b[0;36mNDFrame.xs\u001b[1;34m(self, key, axis, level, drop_level)\u001b[0m\n\u001b[0;32m   4039\u001b[0m \u001b[39mif\u001b[39;00m axis \u001b[39m==\u001b[39m \u001b[39m1\u001b[39m:\n\u001b[0;32m   4040\u001b[0m     \u001b[39mif\u001b[39;00m drop_level:\n\u001b[1;32m-> 4041\u001b[0m         \u001b[39mreturn\u001b[39;00m \u001b[39mself\u001b[39;49m[key]\n\u001b[0;32m   4042\u001b[0m     index \u001b[39m=\u001b[39m \u001b[39mself\u001b[39m\u001b[39m.\u001b[39mcolumns\n\u001b[0;32m   4043\u001b[0m \u001b[39melse\u001b[39;00m:\n",
      "File \u001b[1;32mc:\\Users\\user\\Documents\\GitHub\\Automated-Trading-Systems\\.venv\\Lib\\site-packages\\pandas\\core\\frame.py:3807\u001b[0m, in \u001b[0;36mDataFrame.__getitem__\u001b[1;34m(self, key)\u001b[0m\n\u001b[0;32m   3805\u001b[0m \u001b[39mif\u001b[39;00m \u001b[39mself\u001b[39m\u001b[39m.\u001b[39mcolumns\u001b[39m.\u001b[39mnlevels \u001b[39m>\u001b[39m \u001b[39m1\u001b[39m:\n\u001b[0;32m   3806\u001b[0m     \u001b[39mreturn\u001b[39;00m \u001b[39mself\u001b[39m\u001b[39m.\u001b[39m_getitem_multilevel(key)\n\u001b[1;32m-> 3807\u001b[0m indexer \u001b[39m=\u001b[39m \u001b[39mself\u001b[39;49m\u001b[39m.\u001b[39;49mcolumns\u001b[39m.\u001b[39;49mget_loc(key)\n\u001b[0;32m   3808\u001b[0m \u001b[39mif\u001b[39;00m is_integer(indexer):\n\u001b[0;32m   3809\u001b[0m     indexer \u001b[39m=\u001b[39m [indexer]\n",
      "File \u001b[1;32mc:\\Users\\user\\Documents\\GitHub\\Automated-Trading-Systems\\.venv\\Lib\\site-packages\\pandas\\core\\indexes\\base.py:3804\u001b[0m, in \u001b[0;36mIndex.get_loc\u001b[1;34m(self, key, method, tolerance)\u001b[0m\n\u001b[0;32m   3802\u001b[0m     \u001b[39mreturn\u001b[39;00m \u001b[39mself\u001b[39m\u001b[39m.\u001b[39m_engine\u001b[39m.\u001b[39mget_loc(casted_key)\n\u001b[0;32m   3803\u001b[0m \u001b[39mexcept\u001b[39;00m \u001b[39mKeyError\u001b[39;00m \u001b[39mas\u001b[39;00m err:\n\u001b[1;32m-> 3804\u001b[0m     \u001b[39mraise\u001b[39;00m \u001b[39mKeyError\u001b[39;00m(key) \u001b[39mfrom\u001b[39;00m \u001b[39merr\u001b[39;00m\n\u001b[0;32m   3805\u001b[0m \u001b[39mexcept\u001b[39;00m \u001b[39mTypeError\u001b[39;00m:\n\u001b[0;32m   3806\u001b[0m     \u001b[39m# If we have a listlike key, _check_indexing_error will raise\u001b[39;00m\n\u001b[0;32m   3807\u001b[0m     \u001b[39m#  InvalidIndexError. Otherwise we fall through and re-raise\u001b[39;00m\n\u001b[0;32m   3808\u001b[0m     \u001b[39m#  the TypeError.\u001b[39;00m\n\u001b[0;32m   3809\u001b[0m     \u001b[39mself\u001b[39m\u001b[39m.\u001b[39m_check_indexing_error(key)\n",
      "\u001b[1;31mKeyError\u001b[0m: '전력사용량(kWh)'"
     ]
    }
   ],
   "source": [
    "display(train_df_fe)\n",
    "window_size = 72\n",
    "forcast_size = 720\n",
    "targets = '전력사용량'\n",
    "date = 'date_time'\n",
    "\n",
    "df = train_df_fe.copy()\n",
    "data_list = []\n",
    "dap_list = []\n",
    "date_list = []\n",
    "for idx in range(0, df.shape[0]-window_size, forcast_size+1):\n",
    "    x = df.loc[idx:idx+window_size-1, target].values.reshape(window_size, 1)\n",
    "    y = df.loc[idx+window_size:idx+window_size+forcast_size-1, target].values\n",
    "    date_ = df.loc[idx+window_size:idx+window_size+forcast_size-1,date].values"
   ]
  },
  {
   "cell_type": "code",
   "execution_count": 44,
   "metadata": {},
   "outputs": [
    {
     "data": {
      "text/html": [
       "<div>\n",
       "<style scoped>\n",
       "    .dataframe tbody tr th:only-of-type {\n",
       "        vertical-align: middle;\n",
       "    }\n",
       "\n",
       "    .dataframe tbody tr th {\n",
       "        vertical-align: top;\n",
       "    }\n",
       "\n",
       "    .dataframe thead th {\n",
       "        text-align: right;\n",
       "    }\n",
       "</style>\n",
       "<table border=\"1\" class=\"dataframe\">\n",
       "  <thead>\n",
       "    <tr style=\"text-align: right;\">\n",
       "      <th></th>\n",
       "      <th>num</th>\n",
       "      <th>date_time</th>\n",
       "      <th>전력사용량</th>\n",
       "      <th>기온</th>\n",
       "      <th>풍속</th>\n",
       "      <th>습도</th>\n",
       "      <th>강수량</th>\n",
       "      <th>일조</th>\n",
       "      <th>비전기냉방설비운영</th>\n",
       "      <th>태양광보유</th>\n",
       "    </tr>\n",
       "  </thead>\n",
       "  <tbody>\n",
       "    <tr>\n",
       "      <th>120718</th>\n",
       "      <td>1.704285</td>\n",
       "      <td>2020-06-15 22</td>\n",
       "      <td>0.383777</td>\n",
       "      <td>-1.453702</td>\n",
       "      <td>1.151239</td>\n",
       "      <td>0.762103</td>\n",
       "      <td>-0.196458</td>\n",
       "      <td>-0.577861</td>\n",
       "      <td>0.680951</td>\n",
       "      <td>1.035511</td>\n",
       "    </tr>\n",
       "    <tr>\n",
       "      <th>119412</th>\n",
       "      <td>1.646586</td>\n",
       "      <td>2020-07-16 12</td>\n",
       "      <td>-0.436787</td>\n",
       "      <td>0.248326</td>\n",
       "      <td>-0.892370</td>\n",
       "      <td>-1.042992</td>\n",
       "      <td>-0.196458</td>\n",
       "      <td>1.309688</td>\n",
       "      <td>0.680951</td>\n",
       "      <td>-0.965697</td>\n",
       "    </tr>\n",
       "    <tr>\n",
       "      <th>39012</th>\n",
       "      <td>-0.603687</td>\n",
       "      <td>2020-06-11 12</td>\n",
       "      <td>-0.426682</td>\n",
       "      <td>1.158031</td>\n",
       "      <td>0.887547</td>\n",
       "      <td>-1.236395</td>\n",
       "      <td>-0.196458</td>\n",
       "      <td>1.848988</td>\n",
       "      <td>-1.468519</td>\n",
       "      <td>-0.965697</td>\n",
       "    </tr>\n",
       "    <tr>\n",
       "      <th>25446</th>\n",
       "      <td>-1.007583</td>\n",
       "      <td>2020-07-11 06</td>\n",
       "      <td>-0.707961</td>\n",
       "      <td>-0.573343</td>\n",
       "      <td>-1.419753</td>\n",
       "      <td>0.633168</td>\n",
       "      <td>-0.196458</td>\n",
       "      <td>-0.577861</td>\n",
       "      <td>0.680951</td>\n",
       "      <td>-0.965697</td>\n",
       "    </tr>\n",
       "    <tr>\n",
       "      <th>4946</th>\n",
       "      <td>-1.584576</td>\n",
       "      <td>2020-07-07 02</td>\n",
       "      <td>0.447912</td>\n",
       "      <td>-0.778760</td>\n",
       "      <td>-0.694602</td>\n",
       "      <td>0.762103</td>\n",
       "      <td>-0.196458</td>\n",
       "      <td>-0.577861</td>\n",
       "      <td>0.680951</td>\n",
       "      <td>1.035511</td>\n",
       "    </tr>\n",
       "    <tr>\n",
       "      <th>...</th>\n",
       "      <td>...</td>\n",
       "      <td>...</td>\n",
       "      <td>...</td>\n",
       "      <td>...</td>\n",
       "      <td>...</td>\n",
       "      <td>...</td>\n",
       "      <td>...</td>\n",
       "      <td>...</td>\n",
       "      <td>...</td>\n",
       "      <td>...</td>\n",
       "    </tr>\n",
       "    <tr>\n",
       "      <th>109880</th>\n",
       "      <td>1.358089</td>\n",
       "      <td>2020-08-13 08</td>\n",
       "      <td>3.220801</td>\n",
       "      <td>0.805887</td>\n",
       "      <td>0.096473</td>\n",
       "      <td>0.697635</td>\n",
       "      <td>-0.196458</td>\n",
       "      <td>-0.577861</td>\n",
       "      <td>0.680951</td>\n",
       "      <td>-0.965697</td>\n",
       "    </tr>\n",
       "    <tr>\n",
       "      <th>41958</th>\n",
       "      <td>-0.545988</td>\n",
       "      <td>2020-07-19 06</td>\n",
       "      <td>-0.552073</td>\n",
       "      <td>-0.133163</td>\n",
       "      <td>0.162396</td>\n",
       "      <td>-0.656186</td>\n",
       "      <td>-0.196458</td>\n",
       "      <td>-0.577861</td>\n",
       "      <td>-1.468519</td>\n",
       "      <td>1.035511</td>\n",
       "    </tr>\n",
       "    <tr>\n",
       "      <th>87133</th>\n",
       "      <td>0.723397</td>\n",
       "      <td>2020-07-31 13</td>\n",
       "      <td>0.054043</td>\n",
       "      <td>1.304757</td>\n",
       "      <td>-0.299064</td>\n",
       "      <td>-0.333847</td>\n",
       "      <td>-0.196458</td>\n",
       "      <td>-0.577861</td>\n",
       "      <td>0.680951</td>\n",
       "      <td>1.035511</td>\n",
       "    </tr>\n",
       "    <tr>\n",
       "      <th>84672</th>\n",
       "      <td>0.665698</td>\n",
       "      <td>2020-07-14 00</td>\n",
       "      <td>-0.775802</td>\n",
       "      <td>-1.805846</td>\n",
       "      <td>0.162396</td>\n",
       "      <td>1.084441</td>\n",
       "      <td>2.686215</td>\n",
       "      <td>-0.577861</td>\n",
       "      <td>0.680951</td>\n",
       "      <td>1.035511</td>\n",
       "    </tr>\n",
       "    <tr>\n",
       "      <th>44964</th>\n",
       "      <td>-0.430589</td>\n",
       "      <td>2020-06-04 12</td>\n",
       "      <td>-0.000153</td>\n",
       "      <td>0.952613</td>\n",
       "      <td>0.426087</td>\n",
       "      <td>-1.429798</td>\n",
       "      <td>-0.196458</td>\n",
       "      <td>2.118638</td>\n",
       "      <td>-1.468519</td>\n",
       "      <td>1.035511</td>\n",
       "    </tr>\n",
       "  </tbody>\n",
       "</table>\n",
       "<p>97920 rows × 10 columns</p>\n",
       "</div>"
      ],
      "text/plain": [
       "             num      date_time     전력사용량        기온        풍속        습도  \\\n",
       "120718  1.704285  2020-06-15 22  0.383777 -1.453702  1.151239  0.762103   \n",
       "119412  1.646586  2020-07-16 12 -0.436787  0.248326 -0.892370 -1.042992   \n",
       "39012  -0.603687  2020-06-11 12 -0.426682  1.158031  0.887547 -1.236395   \n",
       "25446  -1.007583  2020-07-11 06 -0.707961 -0.573343 -1.419753  0.633168   \n",
       "4946   -1.584576  2020-07-07 02  0.447912 -0.778760 -0.694602  0.762103   \n",
       "...          ...            ...       ...       ...       ...       ...   \n",
       "109880  1.358089  2020-08-13 08  3.220801  0.805887  0.096473  0.697635   \n",
       "41958  -0.545988  2020-07-19 06 -0.552073 -0.133163  0.162396 -0.656186   \n",
       "87133   0.723397  2020-07-31 13  0.054043  1.304757 -0.299064 -0.333847   \n",
       "84672   0.665698  2020-07-14 00 -0.775802 -1.805846  0.162396  1.084441   \n",
       "44964  -0.430589  2020-06-04 12 -0.000153  0.952613  0.426087 -1.429798   \n",
       "\n",
       "             강수량        일조  비전기냉방설비운영     태양광보유  \n",
       "120718 -0.196458 -0.577861   0.680951  1.035511  \n",
       "119412 -0.196458  1.309688   0.680951 -0.965697  \n",
       "39012  -0.196458  1.848988  -1.468519 -0.965697  \n",
       "25446  -0.196458 -0.577861   0.680951 -0.965697  \n",
       "4946   -0.196458 -0.577861   0.680951  1.035511  \n",
       "...          ...       ...        ...       ...  \n",
       "109880 -0.196458 -0.577861   0.680951 -0.965697  \n",
       "41958  -0.196458 -0.577861  -1.468519  1.035511  \n",
       "87133  -0.196458 -0.577861   0.680951  1.035511  \n",
       "84672   2.686215 -0.577861   0.680951  1.035511  \n",
       "44964  -0.196458  2.118638  -1.468519  1.035511  \n",
       "\n",
       "[97920 rows x 10 columns]"
      ]
     },
     "execution_count": 44,
     "metadata": {},
     "output_type": "execute_result"
    }
   ],
   "source": [
    "df"
   ]
  },
  {
   "cell_type": "code",
   "execution_count": 35,
   "metadata": {},
   "outputs": [
    {
     "data": {
      "text/plain": [
       "122400"
      ]
     },
     "execution_count": 35,
     "metadata": {},
     "output_type": "execute_result"
    }
   ],
   "source": [
    "train_df_fe.shape[0]"
   ]
  },
  {
   "cell_type": "code",
   "execution_count": 23,
   "metadata": {},
   "outputs": [
    {
     "data": {
      "text/html": [
       "<div>\n",
       "<style scoped>\n",
       "    .dataframe tbody tr th:only-of-type {\n",
       "        vertical-align: middle;\n",
       "    }\n",
       "\n",
       "    .dataframe tbody tr th {\n",
       "        vertical-align: top;\n",
       "    }\n",
       "\n",
       "    .dataframe thead th {\n",
       "        text-align: right;\n",
       "    }\n",
       "</style>\n",
       "<table border=\"1\" class=\"dataframe\">\n",
       "  <thead>\n",
       "    <tr style=\"text-align: right;\">\n",
       "      <th></th>\n",
       "      <th>num</th>\n",
       "      <th>date_time</th>\n",
       "      <th>기온</th>\n",
       "      <th>풍속</th>\n",
       "      <th>습도</th>\n",
       "      <th>강수량</th>\n",
       "      <th>일조</th>\n",
       "      <th>비전기냉방설비운영</th>\n",
       "      <th>태양광보유</th>\n",
       "    </tr>\n",
       "  </thead>\n",
       "  <tbody>\n",
       "    <tr>\n",
       "      <th>0</th>\n",
       "      <td>1</td>\n",
       "      <td>2020-08-25 00</td>\n",
       "      <td>27.8</td>\n",
       "      <td>1.5</td>\n",
       "      <td>74.0</td>\n",
       "      <td>0.0</td>\n",
       "      <td>0.0</td>\n",
       "      <td>NaN</td>\n",
       "      <td>NaN</td>\n",
       "    </tr>\n",
       "    <tr>\n",
       "      <th>1</th>\n",
       "      <td>1</td>\n",
       "      <td>2020-08-25 01</td>\n",
       "      <td>NaN</td>\n",
       "      <td>NaN</td>\n",
       "      <td>NaN</td>\n",
       "      <td>NaN</td>\n",
       "      <td>NaN</td>\n",
       "      <td>NaN</td>\n",
       "      <td>NaN</td>\n",
       "    </tr>\n",
       "    <tr>\n",
       "      <th>2</th>\n",
       "      <td>1</td>\n",
       "      <td>2020-08-25 02</td>\n",
       "      <td>NaN</td>\n",
       "      <td>NaN</td>\n",
       "      <td>NaN</td>\n",
       "      <td>NaN</td>\n",
       "      <td>NaN</td>\n",
       "      <td>NaN</td>\n",
       "      <td>NaN</td>\n",
       "    </tr>\n",
       "    <tr>\n",
       "      <th>3</th>\n",
       "      <td>1</td>\n",
       "      <td>2020-08-25 03</td>\n",
       "      <td>27.3</td>\n",
       "      <td>1.1</td>\n",
       "      <td>78.0</td>\n",
       "      <td>NaN</td>\n",
       "      <td>0.0</td>\n",
       "      <td>NaN</td>\n",
       "      <td>NaN</td>\n",
       "    </tr>\n",
       "    <tr>\n",
       "      <th>4</th>\n",
       "      <td>1</td>\n",
       "      <td>2020-08-25 04</td>\n",
       "      <td>NaN</td>\n",
       "      <td>NaN</td>\n",
       "      <td>NaN</td>\n",
       "      <td>NaN</td>\n",
       "      <td>NaN</td>\n",
       "      <td>NaN</td>\n",
       "      <td>NaN</td>\n",
       "    </tr>\n",
       "    <tr>\n",
       "      <th>...</th>\n",
       "      <td>...</td>\n",
       "      <td>...</td>\n",
       "      <td>...</td>\n",
       "      <td>...</td>\n",
       "      <td>...</td>\n",
       "      <td>...</td>\n",
       "      <td>...</td>\n",
       "      <td>...</td>\n",
       "      <td>...</td>\n",
       "    </tr>\n",
       "    <tr>\n",
       "      <th>10075</th>\n",
       "      <td>60</td>\n",
       "      <td>2020-08-31 19</td>\n",
       "      <td>NaN</td>\n",
       "      <td>NaN</td>\n",
       "      <td>NaN</td>\n",
       "      <td>NaN</td>\n",
       "      <td>NaN</td>\n",
       "      <td>NaN</td>\n",
       "      <td>NaN</td>\n",
       "    </tr>\n",
       "    <tr>\n",
       "      <th>10076</th>\n",
       "      <td>60</td>\n",
       "      <td>2020-08-31 20</td>\n",
       "      <td>NaN</td>\n",
       "      <td>NaN</td>\n",
       "      <td>NaN</td>\n",
       "      <td>NaN</td>\n",
       "      <td>NaN</td>\n",
       "      <td>NaN</td>\n",
       "      <td>NaN</td>\n",
       "    </tr>\n",
       "    <tr>\n",
       "      <th>10077</th>\n",
       "      <td>60</td>\n",
       "      <td>2020-08-31 21</td>\n",
       "      <td>27.9</td>\n",
       "      <td>4.1</td>\n",
       "      <td>68.0</td>\n",
       "      <td>NaN</td>\n",
       "      <td>0.0</td>\n",
       "      <td>1.0</td>\n",
       "      <td>1.0</td>\n",
       "    </tr>\n",
       "    <tr>\n",
       "      <th>10078</th>\n",
       "      <td>60</td>\n",
       "      <td>2020-08-31 22</td>\n",
       "      <td>NaN</td>\n",
       "      <td>NaN</td>\n",
       "      <td>NaN</td>\n",
       "      <td>NaN</td>\n",
       "      <td>NaN</td>\n",
       "      <td>NaN</td>\n",
       "      <td>NaN</td>\n",
       "    </tr>\n",
       "    <tr>\n",
       "      <th>10079</th>\n",
       "      <td>60</td>\n",
       "      <td>2020-08-31 23</td>\n",
       "      <td>NaN</td>\n",
       "      <td>NaN</td>\n",
       "      <td>NaN</td>\n",
       "      <td>NaN</td>\n",
       "      <td>NaN</td>\n",
       "      <td>NaN</td>\n",
       "      <td>NaN</td>\n",
       "    </tr>\n",
       "  </tbody>\n",
       "</table>\n",
       "<p>10080 rows × 9 columns</p>\n",
       "</div>"
      ],
      "text/plain": [
       "       num      date_time    기온   풍속    습도  강수량   일조  비전기냉방설비운영  태양광보유\n",
       "0        1  2020-08-25 00  27.8  1.5  74.0  0.0  0.0        NaN    NaN\n",
       "1        1  2020-08-25 01   NaN  NaN   NaN  NaN  NaN        NaN    NaN\n",
       "2        1  2020-08-25 02   NaN  NaN   NaN  NaN  NaN        NaN    NaN\n",
       "3        1  2020-08-25 03  27.3  1.1  78.0  NaN  0.0        NaN    NaN\n",
       "4        1  2020-08-25 04   NaN  NaN   NaN  NaN  NaN        NaN    NaN\n",
       "...    ...            ...   ...  ...   ...  ...  ...        ...    ...\n",
       "10075   60  2020-08-31 19   NaN  NaN   NaN  NaN  NaN        NaN    NaN\n",
       "10076   60  2020-08-31 20   NaN  NaN   NaN  NaN  NaN        NaN    NaN\n",
       "10077   60  2020-08-31 21  27.9  4.1  68.0  NaN  0.0        1.0    1.0\n",
       "10078   60  2020-08-31 22   NaN  NaN   NaN  NaN  NaN        NaN    NaN\n",
       "10079   60  2020-08-31 23   NaN  NaN   NaN  NaN  NaN        NaN    NaN\n",
       "\n",
       "[10080 rows x 9 columns]"
      ]
     },
     "execution_count": 23,
     "metadata": {},
     "output_type": "execute_result"
    }
   ],
   "source": [
    "# 결국은 time_slide_df 함수에서 타겟값만 대상으로 뽑아낸다"
   ]
  },
  {
   "cell_type": "code",
   "execution_count": 28,
   "metadata": {},
   "outputs": [
    {
     "data": {
      "text/html": [
       "<div>\n",
       "<style scoped>\n",
       "    .dataframe tbody tr th:only-of-type {\n",
       "        vertical-align: middle;\n",
       "    }\n",
       "\n",
       "    .dataframe tbody tr th {\n",
       "        vertical-align: top;\n",
       "    }\n",
       "\n",
       "    .dataframe thead th {\n",
       "        text-align: right;\n",
       "    }\n",
       "</style>\n",
       "<table border=\"1\" class=\"dataframe\">\n",
       "  <thead>\n",
       "    <tr style=\"text-align: right;\">\n",
       "      <th></th>\n",
       "      <th>num</th>\n",
       "      <th>date_time</th>\n",
       "      <th>기온</th>\n",
       "      <th>풍속</th>\n",
       "      <th>습도</th>\n",
       "      <th>강수량</th>\n",
       "      <th>일조</th>\n",
       "      <th>비전기냉방설비운영</th>\n",
       "      <th>태양광보유</th>\n",
       "    </tr>\n",
       "  </thead>\n",
       "  <tbody>\n",
       "    <tr>\n",
       "      <th>0</th>\n",
       "      <td>1</td>\n",
       "      <td>2020-08-25 00</td>\n",
       "      <td>27.8</td>\n",
       "      <td>1.5</td>\n",
       "      <td>74.0</td>\n",
       "      <td>0.0</td>\n",
       "      <td>0.0</td>\n",
       "      <td>NaN</td>\n",
       "      <td>NaN</td>\n",
       "    </tr>\n",
       "    <tr>\n",
       "      <th>1</th>\n",
       "      <td>1</td>\n",
       "      <td>2020-08-25 01</td>\n",
       "      <td>NaN</td>\n",
       "      <td>NaN</td>\n",
       "      <td>NaN</td>\n",
       "      <td>NaN</td>\n",
       "      <td>NaN</td>\n",
       "      <td>NaN</td>\n",
       "      <td>NaN</td>\n",
       "    </tr>\n",
       "    <tr>\n",
       "      <th>2</th>\n",
       "      <td>1</td>\n",
       "      <td>2020-08-25 02</td>\n",
       "      <td>NaN</td>\n",
       "      <td>NaN</td>\n",
       "      <td>NaN</td>\n",
       "      <td>NaN</td>\n",
       "      <td>NaN</td>\n",
       "      <td>NaN</td>\n",
       "      <td>NaN</td>\n",
       "    </tr>\n",
       "    <tr>\n",
       "      <th>3</th>\n",
       "      <td>1</td>\n",
       "      <td>2020-08-25 03</td>\n",
       "      <td>27.3</td>\n",
       "      <td>1.1</td>\n",
       "      <td>78.0</td>\n",
       "      <td>NaN</td>\n",
       "      <td>0.0</td>\n",
       "      <td>NaN</td>\n",
       "      <td>NaN</td>\n",
       "    </tr>\n",
       "    <tr>\n",
       "      <th>4</th>\n",
       "      <td>1</td>\n",
       "      <td>2020-08-25 04</td>\n",
       "      <td>NaN</td>\n",
       "      <td>NaN</td>\n",
       "      <td>NaN</td>\n",
       "      <td>NaN</td>\n",
       "      <td>NaN</td>\n",
       "      <td>NaN</td>\n",
       "      <td>NaN</td>\n",
       "    </tr>\n",
       "    <tr>\n",
       "      <th>...</th>\n",
       "      <td>...</td>\n",
       "      <td>...</td>\n",
       "      <td>...</td>\n",
       "      <td>...</td>\n",
       "      <td>...</td>\n",
       "      <td>...</td>\n",
       "      <td>...</td>\n",
       "      <td>...</td>\n",
       "      <td>...</td>\n",
       "    </tr>\n",
       "    <tr>\n",
       "      <th>10075</th>\n",
       "      <td>60</td>\n",
       "      <td>2020-08-31 19</td>\n",
       "      <td>NaN</td>\n",
       "      <td>NaN</td>\n",
       "      <td>NaN</td>\n",
       "      <td>NaN</td>\n",
       "      <td>NaN</td>\n",
       "      <td>NaN</td>\n",
       "      <td>NaN</td>\n",
       "    </tr>\n",
       "    <tr>\n",
       "      <th>10076</th>\n",
       "      <td>60</td>\n",
       "      <td>2020-08-31 20</td>\n",
       "      <td>NaN</td>\n",
       "      <td>NaN</td>\n",
       "      <td>NaN</td>\n",
       "      <td>NaN</td>\n",
       "      <td>NaN</td>\n",
       "      <td>NaN</td>\n",
       "      <td>NaN</td>\n",
       "    </tr>\n",
       "    <tr>\n",
       "      <th>10077</th>\n",
       "      <td>60</td>\n",
       "      <td>2020-08-31 21</td>\n",
       "      <td>27.9</td>\n",
       "      <td>4.1</td>\n",
       "      <td>68.0</td>\n",
       "      <td>NaN</td>\n",
       "      <td>0.0</td>\n",
       "      <td>1.0</td>\n",
       "      <td>1.0</td>\n",
       "    </tr>\n",
       "    <tr>\n",
       "      <th>10078</th>\n",
       "      <td>60</td>\n",
       "      <td>2020-08-31 22</td>\n",
       "      <td>NaN</td>\n",
       "      <td>NaN</td>\n",
       "      <td>NaN</td>\n",
       "      <td>NaN</td>\n",
       "      <td>NaN</td>\n",
       "      <td>NaN</td>\n",
       "      <td>NaN</td>\n",
       "    </tr>\n",
       "    <tr>\n",
       "      <th>10079</th>\n",
       "      <td>60</td>\n",
       "      <td>2020-08-31 23</td>\n",
       "      <td>NaN</td>\n",
       "      <td>NaN</td>\n",
       "      <td>NaN</td>\n",
       "      <td>NaN</td>\n",
       "      <td>NaN</td>\n",
       "      <td>NaN</td>\n",
       "      <td>NaN</td>\n",
       "    </tr>\n",
       "  </tbody>\n",
       "</table>\n",
       "<p>10080 rows × 9 columns</p>\n",
       "</div>"
      ],
      "text/plain": [
       "       num      date_time    기온   풍속    습도  강수량   일조  비전기냉방설비운영  태양광보유\n",
       "0        1  2020-08-25 00  27.8  1.5  74.0  0.0  0.0        NaN    NaN\n",
       "1        1  2020-08-25 01   NaN  NaN   NaN  NaN  NaN        NaN    NaN\n",
       "2        1  2020-08-25 02   NaN  NaN   NaN  NaN  NaN        NaN    NaN\n",
       "3        1  2020-08-25 03  27.3  1.1  78.0  NaN  0.0        NaN    NaN\n",
       "4        1  2020-08-25 04   NaN  NaN   NaN  NaN  NaN        NaN    NaN\n",
       "...    ...            ...   ...  ...   ...  ...  ...        ...    ...\n",
       "10075   60  2020-08-31 19   NaN  NaN   NaN  NaN  NaN        NaN    NaN\n",
       "10076   60  2020-08-31 20   NaN  NaN   NaN  NaN  NaN        NaN    NaN\n",
       "10077   60  2020-08-31 21  27.9  4.1  68.0  NaN  0.0        1.0    1.0\n",
       "10078   60  2020-08-31 22   NaN  NaN   NaN  NaN  NaN        NaN    NaN\n",
       "10079   60  2020-08-31 23   NaN  NaN   NaN  NaN  NaN        NaN    NaN\n",
       "\n",
       "[10080 rows x 9 columns]"
      ]
     },
     "execution_count": 28,
     "metadata": {},
     "output_type": "execute_result"
    }
   ],
   "source": [
    "test_df"
   ]
  },
  {
   "cell_type": "code",
   "execution_count": 19,
   "metadata": {},
   "outputs": [
    {
     "data": {
      "text/html": [
       "<div>\n",
       "<style scoped>\n",
       "    .dataframe tbody tr th:only-of-type {\n",
       "        vertical-align: middle;\n",
       "    }\n",
       "\n",
       "    .dataframe tbody tr th {\n",
       "        vertical-align: top;\n",
       "    }\n",
       "\n",
       "    .dataframe thead th {\n",
       "        text-align: right;\n",
       "    }\n",
       "</style>\n",
       "<table border=\"1\" class=\"dataframe\">\n",
       "  <thead>\n",
       "    <tr style=\"text-align: right;\">\n",
       "      <th></th>\n",
       "      <th>num</th>\n",
       "      <th>date_time</th>\n",
       "      <th>전력사용량(kWh)</th>\n",
       "      <th>기온(°C)</th>\n",
       "      <th>풍속(m/s)</th>\n",
       "      <th>습도(%)</th>\n",
       "      <th>강수량(mm)</th>\n",
       "      <th>일조(hr)</th>\n",
       "      <th>비전기냉방설비운영</th>\n",
       "      <th>태양광보유</th>\n",
       "    </tr>\n",
       "  </thead>\n",
       "  <tbody>\n",
       "    <tr>\n",
       "      <th>0</th>\n",
       "      <td>-1.703413</td>\n",
       "      <td>2020-06-01 00</td>\n",
       "      <td>2.843238</td>\n",
       "      <td>17.6</td>\n",
       "      <td>2.5</td>\n",
       "      <td>92.0</td>\n",
       "      <td>0.8</td>\n",
       "      <td>0.0</td>\n",
       "      <td>0.0</td>\n",
       "      <td>0.0</td>\n",
       "    </tr>\n",
       "    <tr>\n",
       "      <th>1</th>\n",
       "      <td>-1.703413</td>\n",
       "      <td>2020-06-01 01</td>\n",
       "      <td>2.822152</td>\n",
       "      <td>17.7</td>\n",
       "      <td>2.9</td>\n",
       "      <td>91.0</td>\n",
       "      <td>0.3</td>\n",
       "      <td>0.0</td>\n",
       "      <td>0.0</td>\n",
       "      <td>0.0</td>\n",
       "    </tr>\n",
       "    <tr>\n",
       "      <th>2</th>\n",
       "      <td>-1.703413</td>\n",
       "      <td>2020-06-01 02</td>\n",
       "      <td>2.808305</td>\n",
       "      <td>17.5</td>\n",
       "      <td>3.2</td>\n",
       "      <td>91.0</td>\n",
       "      <td>0.0</td>\n",
       "      <td>0.0</td>\n",
       "      <td>0.0</td>\n",
       "      <td>0.0</td>\n",
       "    </tr>\n",
       "    <tr>\n",
       "      <th>3</th>\n",
       "      <td>-1.703413</td>\n",
       "      <td>2020-06-01 03</td>\n",
       "      <td>2.779980</td>\n",
       "      <td>17.1</td>\n",
       "      <td>3.2</td>\n",
       "      <td>91.0</td>\n",
       "      <td>0.0</td>\n",
       "      <td>0.0</td>\n",
       "      <td>0.0</td>\n",
       "      <td>0.0</td>\n",
       "    </tr>\n",
       "    <tr>\n",
       "      <th>4</th>\n",
       "      <td>-1.703413</td>\n",
       "      <td>2020-06-01 04</td>\n",
       "      <td>2.777462</td>\n",
       "      <td>17.0</td>\n",
       "      <td>3.3</td>\n",
       "      <td>92.0</td>\n",
       "      <td>0.0</td>\n",
       "      <td>0.0</td>\n",
       "      <td>0.0</td>\n",
       "      <td>0.0</td>\n",
       "    </tr>\n",
       "    <tr>\n",
       "      <th>...</th>\n",
       "      <td>...</td>\n",
       "      <td>...</td>\n",
       "      <td>...</td>\n",
       "      <td>...</td>\n",
       "      <td>...</td>\n",
       "      <td>...</td>\n",
       "      <td>...</td>\n",
       "      <td>...</td>\n",
       "      <td>...</td>\n",
       "      <td>...</td>\n",
       "    </tr>\n",
       "    <tr>\n",
       "      <th>122395</th>\n",
       "      <td>1.703413</td>\n",
       "      <td>2020-08-24 19</td>\n",
       "      <td>0.869130</td>\n",
       "      <td>27.8</td>\n",
       "      <td>2.3</td>\n",
       "      <td>68.0</td>\n",
       "      <td>0.0</td>\n",
       "      <td>0.7</td>\n",
       "      <td>1.0</td>\n",
       "      <td>1.0</td>\n",
       "    </tr>\n",
       "    <tr>\n",
       "      <th>122396</th>\n",
       "      <td>1.703413</td>\n",
       "      <td>2020-08-24 20</td>\n",
       "      <td>0.801780</td>\n",
       "      <td>27.3</td>\n",
       "      <td>1.2</td>\n",
       "      <td>71.0</td>\n",
       "      <td>0.0</td>\n",
       "      <td>0.0</td>\n",
       "      <td>1.0</td>\n",
       "      <td>1.0</td>\n",
       "    </tr>\n",
       "    <tr>\n",
       "      <th>122397</th>\n",
       "      <td>1.703413</td>\n",
       "      <td>2020-08-24 21</td>\n",
       "      <td>0.605817</td>\n",
       "      <td>27.3</td>\n",
       "      <td>1.8</td>\n",
       "      <td>71.0</td>\n",
       "      <td>0.0</td>\n",
       "      <td>0.0</td>\n",
       "      <td>1.0</td>\n",
       "      <td>1.0</td>\n",
       "    </tr>\n",
       "    <tr>\n",
       "      <th>122398</th>\n",
       "      <td>1.703413</td>\n",
       "      <td>2020-08-24 22</td>\n",
       "      <td>0.473217</td>\n",
       "      <td>27.1</td>\n",
       "      <td>1.8</td>\n",
       "      <td>74.0</td>\n",
       "      <td>0.0</td>\n",
       "      <td>0.0</td>\n",
       "      <td>1.0</td>\n",
       "      <td>1.0</td>\n",
       "    </tr>\n",
       "    <tr>\n",
       "      <th>122399</th>\n",
       "      <td>1.703413</td>\n",
       "      <td>2020-08-24 23</td>\n",
       "      <td>0.427268</td>\n",
       "      <td>27.1</td>\n",
       "      <td>2.6</td>\n",
       "      <td>75.0</td>\n",
       "      <td>0.0</td>\n",
       "      <td>0.0</td>\n",
       "      <td>1.0</td>\n",
       "      <td>1.0</td>\n",
       "    </tr>\n",
       "  </tbody>\n",
       "</table>\n",
       "<p>122400 rows × 10 columns</p>\n",
       "</div>"
      ],
      "text/plain": [
       "             num      date_time  전력사용량(kWh)  기온(°C)  풍속(m/s)  습도(%)  강수량(mm)  \\\n",
       "0      -1.703413  2020-06-01 00    2.843238    17.6      2.5   92.0      0.8   \n",
       "1      -1.703413  2020-06-01 01    2.822152    17.7      2.9   91.0      0.3   \n",
       "2      -1.703413  2020-06-01 02    2.808305    17.5      3.2   91.0      0.0   \n",
       "3      -1.703413  2020-06-01 03    2.779980    17.1      3.2   91.0      0.0   \n",
       "4      -1.703413  2020-06-01 04    2.777462    17.0      3.3   92.0      0.0   \n",
       "...          ...            ...         ...     ...      ...    ...      ...   \n",
       "122395  1.703413  2020-08-24 19    0.869130    27.8      2.3   68.0      0.0   \n",
       "122396  1.703413  2020-08-24 20    0.801780    27.3      1.2   71.0      0.0   \n",
       "122397  1.703413  2020-08-24 21    0.605817    27.3      1.8   71.0      0.0   \n",
       "122398  1.703413  2020-08-24 22    0.473217    27.1      1.8   74.0      0.0   \n",
       "122399  1.703413  2020-08-24 23    0.427268    27.1      2.6   75.0      0.0   \n",
       "\n",
       "        일조(hr)  비전기냉방설비운영  태양광보유  \n",
       "0          0.0        0.0    0.0  \n",
       "1          0.0        0.0    0.0  \n",
       "2          0.0        0.0    0.0  \n",
       "3          0.0        0.0    0.0  \n",
       "4          0.0        0.0    0.0  \n",
       "...        ...        ...    ...  \n",
       "122395     0.7        1.0    1.0  \n",
       "122396     0.0        1.0    1.0  \n",
       "122397     0.0        1.0    1.0  \n",
       "122398     0.0        1.0    1.0  \n",
       "122399     0.0        1.0    1.0  \n",
       "\n",
       "[122400 rows x 10 columns]"
      ]
     },
     "execution_count": 19,
     "metadata": {},
     "output_type": "execute_result"
    }
   ],
   "source": [
    "train_df"
   ]
  },
  {
   "cell_type": "code",
   "execution_count": null,
   "metadata": {},
   "outputs": [],
   "source": []
  },
  {
   "cell_type": "code",
   "execution_count": null,
   "metadata": {},
   "outputs": [],
   "source": [
    "class moving_avg(nn.Module): # Module은 또한 다른 모듈들을 담고있다, tree구조로 품고 있다. submodule들을 특성들로 할당할 수 있다.\n",
    "    \"\"\"\n",
    "    Moving average block to highlight the trend of time series\n",
    "    \"\"\"\n",
    "    def __init__(self, kernel_size, stride):\n",
    "        super(moving_avg, self).__init__()\n",
    "        self.kernel_size = kernel_size\n",
    "        self.avg = nn.AvgPool1d(kernel_size=kernel_size, stride = stride, padding = 0)\n",
    "\n",
    "    def forward(self, x):\n",
    "        # time series에서 양쪽 끝에 패딩하기\n",
    "        front = x[:, 0:1, :].repeat(1, (self.kernel_size-1) // 2, 1) # kernel_size : 연산을 수행할 때 윈도우의 크기를 의미\n",
    "        end = x[:, -1:, :].repeat(1, (self.kernel_size - 1) // 2, 1)\n",
    "        x = torch.cat([front, x, end], dim=1)\n",
    "        x = self.avg(x.permute(0, 2, 1)) # torch.permute() 는 원하는 순서로 원본 텐서를 재정렬하고 새로운 차원으로 반환할 수 있다.\n",
    "        x = x.permute(0,2,1)\n",
    "        return x\n",
    "    \n",
    "\n",
    "\n",
    "class series_decomp(nn.Module): # nn.Module을 상속받는다는 의미 같다.\n",
    "    \"\"\"\n",
    "    Series decomposition block\n",
    "    \"\"\"\n",
    "    def __init__(self, kernel_size):\n",
    "        super(series_decomp, self).__init__() # 자식 클래스가 상속받는 부모 클래스를 자식 클래스에 불러오겠다는 의미 -> 그냥 상속받는다는 의미 super().__init()__과 차이없음.\n",
    "        self.moving_avg = moving_avg(kernel_size, stried=1)\n",
    "\n",
    "    def forward(self, x): \n",
    "        moving_mean = self.moving_avg(x)\n",
    "        res = x - moving_mean # 잔차 구하는거 같다.\n",
    "        return res, moving_mean # 잔차와 trend 반환\n",
    "    \n",
    "\n",
    "\n",
    "class Model(nn.Module):\n",
    "    \"\"\"\n",
    "    Decomposition-Linear\n",
    "    \"\"\"\n",
    "    def __init__(self, configs): # configs에 어떤 정보 받아져있는지 확인해볼 필요 있다.\n",
    "        super(Model, self).__init__()\n",
    "        self.seq_len = configs.seq_len\n",
    "        self.pred_len = configs.pred_len\n",
    "\n",
    "        # Decomposition Kernel Size\n",
    "        kernel_size = 25 # ???????????????????????????????????\n",
    "        self.decomposition = series_decomp(kernel_size) # 위에 25로 설정했으니 25개의 moving avg 찍는다.\n",
    "        self.individual = configs.individual # ???????????????????????\n",
    "        self.channels = configs.enc_in # ????????????????????????\n",
    "\n",
    "        if self.individual:\n",
    "            self.Linear_Seasonal = nn.ModuleList()\n",
    "            self.Linear_Trend = nn.ModuleList()\n",
    "\n",
    "            for i in range(self.channels):\n",
    "                self.Linear_Seasonal.append(nn.Linear(self.seq_len, self.pred_len))\n",
    "                self.Linear_Trend.append(nn.Linear(self.seq_len, self.pred_len))\n",
    "\n",
    "                # Use this two lines if you want to visualize the weights\n",
    "                # self.Linear_Seasonal[i].weight = nn.Parameter((1/self.seq_len)*torch.ones([self.pred_len,self.seq_len]))\n",
    "                # self.Linear_Trend[i].weight = nn.Parameter((1/self.seq_len)*torch.ones([self.pred_len,self.seq_len]))\n",
    "\n",
    "        else:\n",
    "            self.Linear_Seasonal = nn.Linear(self.seq_len, self.pred_len)\n",
    "            self.Linear_Trend = nn.Linear(self.seq_len, self.pred_len)\n",
    "\n",
    "            # Use this two lines if you want to visualize the weights\n",
    "            # self.Linear_Seasonal.weight = nn.Parameter((1/self.seq_len)*torch.ones([self.pred_len,self.seq_len]))\n",
    "            # self.Linear_Trend.weight = nn.Parameter((1/self.seq_len)*torch.ones([self.pred_len,self.seq_len]))\n",
    "\n",
    "    \n",
    "    def forward(self, x):\n",
    "        # x : [Batch, Input length, Channel]\n",
    "        seasonal_init, trend_init = self.decomposition(x)\n",
    "        seasonal_init, trend_init = seasonal_init.permute(0,2,1), trend_init.permute(0,2,1)\n",
    "        if self.individual:\n",
    "            seasonal_output = torch.zeros([seasonal_init.size(0), seasonal_init.size(1), self.pred_len], dtype=seasonal_init.dtype).to(seasonal_init.device)\n",
    "            trend_output = torch.zeros([trend_init.size(0), trend_init.size(1), self.pred_len], dtype=trend_init.dtype).to(trend_init.device)\n",
    "            for i in range(self.channels):\n",
    "                seasonal_output[:,i,:] = self.Linear_Seasonal[i](seasonal_init[:,i,:])\n",
    "                trend_output[:,i,:] = self.Linear_Trend[i](trend_init[:,i,:])\n",
    "\n",
    "        else:\n",
    "            seasonal_output = self.Linear_Seasonal(seasonal_init)\n",
    "            trend_output = self.Linear_Trend(trend_init)\n",
    "\n",
    "        x = seasonal_output + trend_output\n",
    "        return x.permute(0, 2, 1) # to [Batch, Output length, Channel]\n",
    "\n",
    "                \n",
    "\n",
    "\n",
    "\n",
    "    \n",
    "\n"
   ]
  },
  {
   "cell_type": "code",
   "execution_count": null,
   "metadata": {},
   "outputs": [],
   "source": []
  }
 ],
 "metadata": {
  "kernelspec": {
   "display_name": "Python 3",
   "language": "python",
   "name": "python3"
  },
  "language_info": {
   "codemirror_mode": {
    "name": "ipython",
    "version": 3
   },
   "file_extension": ".py",
   "mimetype": "text/x-python",
   "name": "python",
   "nbconvert_exporter": "python",
   "pygments_lexer": "ipython3",
   "version": "3.11.1"
  },
  "orig_nbformat": 4
 },
 "nbformat": 4,
 "nbformat_minor": 2
}
