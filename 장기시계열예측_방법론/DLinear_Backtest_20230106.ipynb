{
 "cells": [
  {
   "cell_type": "code",
   "execution_count": 3,
   "id": "6b3720f6",
   "metadata": {},
   "outputs": [],
   "source": [
    "import torch\n",
    "import torch.nn as nn\n",
    "import torch.optim as optim\n",
    "import torch.nn.functional as F\n",
    "import pandas as pd\n",
    "import numpy as np\n",
    "import random\n",
    "import os\n",
    "import matplotlib.pyplot as plt\n",
    "\n",
    "from torch.utils.data import Dataset, DataLoader\n",
    "from tqdm.auto import tqdm\n",
    "from sklearn.preprocessing import StandardScaler"
   ]
  },
  {
   "cell_type": "code",
   "execution_count": 4,
   "id": "9eb37c63",
   "metadata": {},
   "outputs": [],
   "source": [
    "from datetime import datetime\n",
    "\n",
    "now = datetime.now()\n",
    "\n",
    "current_time = now.strftime(\"%y%m%d%H%M%S\")"
   ]
  },
  {
   "cell_type": "code",
   "execution_count": 5,
   "id": "03e241e8",
   "metadata": {},
   "outputs": [
    {
     "data": {
      "text/plain": [
       "device(type='cuda')"
      ]
     },
     "execution_count": 5,
     "metadata": {},
     "output_type": "execute_result"
    }
   ],
   "source": [
    "device = torch.device('cuda') if torch.cuda.is_available() else torch.device('cpu')\n",
    "device"
   ]
  },
  {
   "cell_type": "code",
   "execution_count": 6,
   "id": "87e6775f",
   "metadata": {},
   "outputs": [],
   "source": [
    "config = {\n",
    "    'batch_size': 32,\n",
    "    'epoch': 50,\n",
    "    'learning_rate': 1e-2,\n",
    "    'seq_len': 26,\n",
    "    'label_len': 2,\n",
    "    'pred_len': 2,\n",
    "    'individual': True,\n",
    "    'enc_in': 0\n",
    "}\n",
    "\n",
    "dlinear_size = [config['seq_len'], config['label_len'], config['pred_len']]"
   ]
  },
  {
   "cell_type": "code",
   "execution_count": 7,
   "id": "7219a9fb",
   "metadata": {},
   "outputs": [],
   "source": [
    "# Fix seed\n",
    "def seed_everything(seed: int = 42):\n",
    "    random.seed(seed)\n",
    "    np.random.seed(seed)\n",
    "    os.environ[\"PYTHONHASHSEED\"] = str(seed)\n",
    "    torch.manual_seed(seed)\n",
    "    torch.cuda.manual_seed(seed)  # type: ignore\n",
    "    torch.backends.cudnn.deterministic = True  # type: ignore\n",
    "    torch.backends.cudnn.benchmark = True  # type: ignore\n",
    "\n",
    "seed_everything()"
   ]
  },
  {
   "cell_type": "code",
   "execution_count": 8,
   "id": "35c25709",
   "metadata": {},
   "outputs": [],
   "source": [
    "# 규격준수율 계산 식\n",
    "def cal_accuracy_rate(actual, prediction):\n",
    "    \n",
    "    if prediction<0:\n",
    "        prediction = 0\n",
    "\n",
    "    result = 0\n",
    "    if (prediction >= actual) and (prediction > 0):\n",
    "        result = actual / prediction * 100\n",
    "    elif (prediction < actual) and (prediction > 0):\n",
    "        if actual > prediction * 2:\n",
    "            result = 0\n",
    "        else:\n",
    "            result = (1 - (actual - prediction) / prediction) * 100\n",
    "    elif prediction == 0 and actual > 0:\n",
    "        result = 0\n",
    "    elif prediction == 0 and actual == 0:\n",
    "        result = -1\n",
    "    else:\n",
    "        print(actual, prediction)\n",
    "        raise ValueError()\n",
    "    return round(result, 1)"
   ]
  },
  {
   "cell_type": "markdown",
   "id": "853e38db",
   "metadata": {},
   "source": [
    "### 예측 대상 품목 추출"
   ]
  },
  {
   "cell_type": "code",
   "execution_count": 9,
   "id": "fbef605c",
   "metadata": {},
   "outputs": [
    {
     "name": "stderr",
     "output_type": "stream",
     "text": [
      "D:\\jupyter\\lib\\site-packages\\openpyxl\\styles\\stylesheet.py:226: UserWarning: Workbook contains no default style, apply openpyxl's default\n",
      "  warn(\"Workbook contains no default style, apply openpyxl's default\")\n"
     ]
    },
    {
     "name": "stdout",
     "output_type": "stream",
     "text": [
      "(3409, 2)\n",
      "3409\n"
     ]
    },
    {
     "data": {
      "text/html": [
       "<div>\n",
       "<style scoped>\n",
       "    .dataframe tbody tr th:only-of-type {\n",
       "        vertical-align: middle;\n",
       "    }\n",
       "\n",
       "    .dataframe tbody tr th {\n",
       "        vertical-align: top;\n",
       "    }\n",
       "\n",
       "    .dataframe thead th {\n",
       "        text-align: right;\n",
       "    }\n",
       "</style>\n",
       "<table border=\"1\" class=\"dataframe\">\n",
       "  <thead>\n",
       "    <tr style=\"text-align: right;\">\n",
       "      <th></th>\n",
       "      <th>item_code</th>\n",
       "      <th>bas_week</th>\n",
       "    </tr>\n",
       "  </thead>\n",
       "  <tbody>\n",
       "    <tr>\n",
       "      <th>0</th>\n",
       "      <td>1000029</td>\n",
       "      <td>2713.0</td>\n",
       "    </tr>\n",
       "    <tr>\n",
       "      <th>1</th>\n",
       "      <td>1000043</td>\n",
       "      <td>2713.0</td>\n",
       "    </tr>\n",
       "    <tr>\n",
       "      <th>2</th>\n",
       "      <td>1000138</td>\n",
       "      <td>2713.0</td>\n",
       "    </tr>\n",
       "    <tr>\n",
       "      <th>3</th>\n",
       "      <td>1000163</td>\n",
       "      <td>2713.0</td>\n",
       "    </tr>\n",
       "    <tr>\n",
       "      <th>4</th>\n",
       "      <td>1000184</td>\n",
       "      <td>2713.0</td>\n",
       "    </tr>\n",
       "  </tbody>\n",
       "</table>\n",
       "</div>"
      ],
      "text/plain": [
       "   item_code  bas_week\n",
       "0    1000029    2713.0\n",
       "1    1000043    2713.0\n",
       "2    1000138    2713.0\n",
       "3    1000163    2713.0\n",
       "4    1000184    2713.0"
      ]
     },
     "execution_count": 9,
     "metadata": {},
     "output_type": "execute_result"
    }
   ],
   "source": [
    "target_item = pd.read_excel(\"./data/2.주별_수요예측대상품목.xlsx\")\n",
    "target_item = target_item.iloc[np.where(target_item[\"bas_week\"] == 2713)].reset_index(drop=True)\n",
    "print(target_item.shape)\n",
    "print(target_item[\"item_code\"].nunique())\n",
    "target_item.head()"
   ]
  },
  {
   "cell_type": "code",
   "execution_count": 10,
   "id": "f34b49bc",
   "metadata": {},
   "outputs": [
    {
     "name": "stdout",
     "output_type": "stream",
     "text": [
      "Data shape: (1986699, 5)\n",
      "Unique code num: 11257\n"
     ]
    },
    {
     "data": {
      "text/html": [
       "<div>\n",
       "<style scoped>\n",
       "    .dataframe tbody tr th:only-of-type {\n",
       "        vertical-align: middle;\n",
       "    }\n",
       "\n",
       "    .dataframe tbody tr th {\n",
       "        vertical-align: top;\n",
       "    }\n",
       "\n",
       "    .dataframe thead th {\n",
       "        text-align: right;\n",
       "    }\n",
       "</style>\n",
       "<table border=\"1\" class=\"dataframe\">\n",
       "  <thead>\n",
       "    <tr style=\"text-align: right;\">\n",
       "      <th></th>\n",
       "      <th>자재코드</th>\n",
       "      <th>채널구분</th>\n",
       "      <th>주문주차</th>\n",
       "      <th>주문수량</th>\n",
       "      <th>결품수량</th>\n",
       "    </tr>\n",
       "  </thead>\n",
       "  <tbody>\n",
       "    <tr>\n",
       "      <th>0</th>\n",
       "      <td>1000029</td>\n",
       "      <td>ETC</td>\n",
       "      <td>2015-SW01</td>\n",
       "      <td>198</td>\n",
       "      <td>1</td>\n",
       "    </tr>\n",
       "    <tr>\n",
       "      <th>1</th>\n",
       "      <td>1000029</td>\n",
       "      <td>NH</td>\n",
       "      <td>2015-SW01</td>\n",
       "      <td>12</td>\n",
       "      <td>0</td>\n",
       "    </tr>\n",
       "    <tr>\n",
       "      <th>2</th>\n",
       "      <td>1000043</td>\n",
       "      <td>CN</td>\n",
       "      <td>2015-SW01</td>\n",
       "      <td>365</td>\n",
       "      <td>0</td>\n",
       "    </tr>\n",
       "    <tr>\n",
       "      <th>3</th>\n",
       "      <td>1000043</td>\n",
       "      <td>ETC</td>\n",
       "      <td>2015-SW01</td>\n",
       "      <td>161</td>\n",
       "      <td>4</td>\n",
       "    </tr>\n",
       "    <tr>\n",
       "      <th>4</th>\n",
       "      <td>1000043</td>\n",
       "      <td>NH</td>\n",
       "      <td>2015-SW01</td>\n",
       "      <td>40</td>\n",
       "      <td>0</td>\n",
       "    </tr>\n",
       "  </tbody>\n",
       "</table>\n",
       "</div>"
      ],
      "text/plain": [
       "      자재코드 채널구분       주문주차  주문수량  결품수량\n",
       "0  1000029  ETC  2015-SW01   198     1\n",
       "1  1000029   NH  2015-SW01    12     0\n",
       "2  1000043   CN  2015-SW01   365     0\n",
       "3  1000043  ETC  2015-SW01   161     4\n",
       "4  1000043   NH  2015-SW01    40     0"
      ]
     },
     "execution_count": 10,
     "metadata": {},
     "output_type": "execute_result"
    }
   ],
   "source": [
    "orig_data = pd.read_csv(\"./data/3.주문실적_2022_SW51.csv\")\n",
    "print(\"Data shape:\", orig_data.shape)\n",
    "print(\"Unique code num:\", orig_data[\"자재코드\"].nunique())\n",
    "orig_data.head()"
   ]
  },
  {
   "cell_type": "code",
   "execution_count": 11,
   "id": "0e41392c",
   "metadata": {},
   "outputs": [
    {
     "data": {
      "text/html": [
       "<div>\n",
       "<style scoped>\n",
       "    .dataframe tbody tr th:only-of-type {\n",
       "        vertical-align: middle;\n",
       "    }\n",
       "\n",
       "    .dataframe tbody tr th {\n",
       "        vertical-align: top;\n",
       "    }\n",
       "\n",
       "    .dataframe thead th {\n",
       "        text-align: right;\n",
       "    }\n",
       "</style>\n",
       "<table border=\"1\" class=\"dataframe\">\n",
       "  <thead>\n",
       "    <tr style=\"text-align: right;\">\n",
       "      <th></th>\n",
       "      <th>자재코드</th>\n",
       "      <th>주문주차</th>\n",
       "      <th>주문수량</th>\n",
       "      <th>결품수량</th>\n",
       "      <th>y</th>\n",
       "    </tr>\n",
       "  </thead>\n",
       "  <tbody>\n",
       "    <tr>\n",
       "      <th>0</th>\n",
       "      <td>1000004</td>\n",
       "      <td>2015-SW39</td>\n",
       "      <td>1</td>\n",
       "      <td>1</td>\n",
       "      <td>0</td>\n",
       "    </tr>\n",
       "    <tr>\n",
       "      <th>1</th>\n",
       "      <td>1000020</td>\n",
       "      <td>2015-SW02</td>\n",
       "      <td>12</td>\n",
       "      <td>0</td>\n",
       "      <td>12</td>\n",
       "    </tr>\n",
       "    <tr>\n",
       "      <th>2</th>\n",
       "      <td>1000020</td>\n",
       "      <td>2015-SW03</td>\n",
       "      <td>122</td>\n",
       "      <td>0</td>\n",
       "      <td>122</td>\n",
       "    </tr>\n",
       "    <tr>\n",
       "      <th>3</th>\n",
       "      <td>1000020</td>\n",
       "      <td>2015-SW04</td>\n",
       "      <td>114</td>\n",
       "      <td>0</td>\n",
       "      <td>114</td>\n",
       "    </tr>\n",
       "    <tr>\n",
       "      <th>4</th>\n",
       "      <td>1000020</td>\n",
       "      <td>2015-SW06</td>\n",
       "      <td>78</td>\n",
       "      <td>3</td>\n",
       "      <td>75</td>\n",
       "    </tr>\n",
       "    <tr>\n",
       "      <th>5</th>\n",
       "      <td>1000020</td>\n",
       "      <td>2015-SW07</td>\n",
       "      <td>2</td>\n",
       "      <td>0</td>\n",
       "      <td>2</td>\n",
       "    </tr>\n",
       "    <tr>\n",
       "      <th>6</th>\n",
       "      <td>1000020</td>\n",
       "      <td>2015-SW09</td>\n",
       "      <td>109</td>\n",
       "      <td>0</td>\n",
       "      <td>109</td>\n",
       "    </tr>\n",
       "    <tr>\n",
       "      <th>7</th>\n",
       "      <td>1000020</td>\n",
       "      <td>2015-SW11</td>\n",
       "      <td>124</td>\n",
       "      <td>12</td>\n",
       "      <td>112</td>\n",
       "    </tr>\n",
       "    <tr>\n",
       "      <th>8</th>\n",
       "      <td>1000020</td>\n",
       "      <td>2015-SW12</td>\n",
       "      <td>20</td>\n",
       "      <td>0</td>\n",
       "      <td>20</td>\n",
       "    </tr>\n",
       "    <tr>\n",
       "      <th>9</th>\n",
       "      <td>1000020</td>\n",
       "      <td>2015-SW13</td>\n",
       "      <td>32</td>\n",
       "      <td>0</td>\n",
       "      <td>32</td>\n",
       "    </tr>\n",
       "  </tbody>\n",
       "</table>\n",
       "</div>"
      ],
      "text/plain": [
       "      자재코드       주문주차  주문수량  결품수량    y\n",
       "0  1000004  2015-SW39     1     1    0\n",
       "1  1000020  2015-SW02    12     0   12\n",
       "2  1000020  2015-SW03   122     0  122\n",
       "3  1000020  2015-SW04   114     0  114\n",
       "4  1000020  2015-SW06    78     3   75\n",
       "5  1000020  2015-SW07     2     0    2\n",
       "6  1000020  2015-SW09   109     0  109\n",
       "7  1000020  2015-SW11   124    12  112\n",
       "8  1000020  2015-SW12    20     0   20\n",
       "9  1000020  2015-SW13    32     0   32"
      ]
     },
     "execution_count": 11,
     "metadata": {},
     "output_type": "execute_result"
    }
   ],
   "source": [
    "# 자재코드 및 주문주차별 합계로 y값 생성\n",
    "data = orig_data.groupby([\"자재코드\", \"주문주차\"]).agg({\"주문수량\":\"sum\", \"결품수량\":\"sum\"}).reset_index()\n",
    "data[\"y\"] = data[\"주문수량\"] - data[\"결품수량\"]\n",
    "data.head(10)"
   ]
  },
  {
   "cell_type": "code",
   "execution_count": 12,
   "id": "880f1889",
   "metadata": {},
   "outputs": [
    {
     "name": "stdout",
     "output_type": "stream",
     "text": [
      "추출 품목 데이터 shape: (687658, 5)\n",
      "대상 품목 개수: 3408\n"
     ]
    },
    {
     "data": {
      "text/html": [
       "<div>\n",
       "<style scoped>\n",
       "    .dataframe tbody tr th:only-of-type {\n",
       "        vertical-align: middle;\n",
       "    }\n",
       "\n",
       "    .dataframe tbody tr th {\n",
       "        vertical-align: top;\n",
       "    }\n",
       "\n",
       "    .dataframe thead th {\n",
       "        text-align: right;\n",
       "    }\n",
       "</style>\n",
       "<table border=\"1\" class=\"dataframe\">\n",
       "  <thead>\n",
       "    <tr style=\"text-align: right;\">\n",
       "      <th></th>\n",
       "      <th>자재코드</th>\n",
       "      <th>주문주차</th>\n",
       "      <th>주문수량</th>\n",
       "      <th>결품수량</th>\n",
       "      <th>y</th>\n",
       "    </tr>\n",
       "  </thead>\n",
       "  <tbody>\n",
       "    <tr>\n",
       "      <th>0</th>\n",
       "      <td>1000029</td>\n",
       "      <td>2015-SW01</td>\n",
       "      <td>210</td>\n",
       "      <td>1</td>\n",
       "      <td>209</td>\n",
       "    </tr>\n",
       "    <tr>\n",
       "      <th>1</th>\n",
       "      <td>1000029</td>\n",
       "      <td>2015-SW02</td>\n",
       "      <td>212</td>\n",
       "      <td>0</td>\n",
       "      <td>212</td>\n",
       "    </tr>\n",
       "    <tr>\n",
       "      <th>2</th>\n",
       "      <td>1000029</td>\n",
       "      <td>2015-SW03</td>\n",
       "      <td>186</td>\n",
       "      <td>0</td>\n",
       "      <td>186</td>\n",
       "    </tr>\n",
       "    <tr>\n",
       "      <th>3</th>\n",
       "      <td>1000029</td>\n",
       "      <td>2015-SW04</td>\n",
       "      <td>123</td>\n",
       "      <td>0</td>\n",
       "      <td>123</td>\n",
       "    </tr>\n",
       "    <tr>\n",
       "      <th>4</th>\n",
       "      <td>1000029</td>\n",
       "      <td>2015-SW05</td>\n",
       "      <td>257</td>\n",
       "      <td>0</td>\n",
       "      <td>257</td>\n",
       "    </tr>\n",
       "  </tbody>\n",
       "</table>\n",
       "</div>"
      ],
      "text/plain": [
       "      자재코드       주문주차  주문수량  결품수량    y\n",
       "0  1000029  2015-SW01   210     1  209\n",
       "1  1000029  2015-SW02   212     0  212\n",
       "2  1000029  2015-SW03   186     0  186\n",
       "3  1000029  2015-SW04   123     0  123\n",
       "4  1000029  2015-SW05   257     0  257"
      ]
     },
     "execution_count": 12,
     "metadata": {},
     "output_type": "execute_result"
    }
   ],
   "source": [
    "data = data[data[\"자재코드\"].isin(target_item[\"item_code\"])].reset_index(drop=True)\n",
    "print(\"추출 품목 데이터 shape:\", data.shape)\n",
    "print(\"대상 품목 개수:\", data[\"자재코드\"].nunique())\n",
    "data.head()"
   ]
  },
  {
   "cell_type": "code",
   "execution_count": 13,
   "id": "454f3b53",
   "metadata": {},
   "outputs": [
    {
     "name": "stdout",
     "output_type": "stream",
     "text": [
      "(10832, 18)\n"
     ]
    },
    {
     "data": {
      "text/plain": [
       "858"
      ]
     },
     "execution_count": 13,
     "metadata": {},
     "output_type": "execute_result"
    }
   ],
   "source": [
    "# 학습 시간으로 인해 item_sal_cls가 A인 것들만 학습\n",
    "item_master = pd.read_csv(\"./data/1.품목마스터.csv\")\n",
    "print(item_master.shape)\n",
    "\n",
    "a_class_code = item_master.iloc[np.where(item_master[\"item_sal_cls\"] == \"A\")][\"item_cd\"].unique()\n",
    "data = data[data[\"자재코드\"].isin(a_class_code)]\n",
    "data[\"자재코드\"].nunique()"
   ]
  },
  {
   "cell_type": "markdown",
   "id": "79abe5eb",
   "metadata": {},
   "source": [
    "### Calender feature merge"
   ]
  },
  {
   "cell_type": "code",
   "execution_count": 14,
   "id": "95079bf5",
   "metadata": {},
   "outputs": [
    {
     "name": "stdout",
     "output_type": "stream",
     "text": [
      "(574, 24)\n"
     ]
    },
    {
     "data": {
      "text/html": [
       "<div>\n",
       "<style scoped>\n",
       "    .dataframe tbody tr th:only-of-type {\n",
       "        vertical-align: middle;\n",
       "    }\n",
       "\n",
       "    .dataframe tbody tr th {\n",
       "        vertical-align: top;\n",
       "    }\n",
       "\n",
       "    .dataframe thead th {\n",
       "        text-align: right;\n",
       "    }\n",
       "</style>\n",
       "<table border=\"1\" class=\"dataframe\">\n",
       "  <thead>\n",
       "    <tr style=\"text-align: right;\">\n",
       "      <th></th>\n",
       "      <th>bas_date</th>\n",
       "      <th>ord_week</th>\n",
       "      <th>bas_year</th>\n",
       "      <th>bas_week</th>\n",
       "      <th>bas_yweek</th>\n",
       "      <th>ymonth</th>\n",
       "      <th>mweek</th>\n",
       "      <th>bas_time</th>\n",
       "      <th>iy_time</th>\n",
       "      <th>im_time</th>\n",
       "      <th>...</th>\n",
       "      <th>n_nyd_tgd</th>\n",
       "      <th>tgd_ind</th>\n",
       "      <th>nyd_ind</th>\n",
       "      <th>chobok</th>\n",
       "      <th>joongbok</th>\n",
       "      <th>malbok</th>\n",
       "      <th>summer_vac</th>\n",
       "      <th>winter_vac</th>\n",
       "      <th>spring_vac</th>\n",
       "      <th>covid19</th>\n",
       "    </tr>\n",
       "  </thead>\n",
       "  <tbody>\n",
       "    <tr>\n",
       "      <th>0</th>\n",
       "      <td>2014-12-29</td>\n",
       "      <td>2015-SW01</td>\n",
       "      <td>2015</td>\n",
       "      <td>2297</td>\n",
       "      <td>1</td>\n",
       "      <td>1</td>\n",
       "      <td>1</td>\n",
       "      <td>2014.994521</td>\n",
       "      <td>0.994521</td>\n",
       "      <td>0.935484</td>\n",
       "      <td>...</td>\n",
       "      <td>0</td>\n",
       "      <td>0</td>\n",
       "      <td>0</td>\n",
       "      <td>0</td>\n",
       "      <td>0</td>\n",
       "      <td>0</td>\n",
       "      <td>0</td>\n",
       "      <td>0</td>\n",
       "      <td>0</td>\n",
       "      <td>0</td>\n",
       "    </tr>\n",
       "    <tr>\n",
       "      <th>1</th>\n",
       "      <td>2015-01-05</td>\n",
       "      <td>2015-SW02</td>\n",
       "      <td>2015</td>\n",
       "      <td>2298</td>\n",
       "      <td>2</td>\n",
       "      <td>1</td>\n",
       "      <td>2</td>\n",
       "      <td>2015.013699</td>\n",
       "      <td>0.013699</td>\n",
       "      <td>0.161290</td>\n",
       "      <td>...</td>\n",
       "      <td>0</td>\n",
       "      <td>0</td>\n",
       "      <td>0</td>\n",
       "      <td>0</td>\n",
       "      <td>0</td>\n",
       "      <td>0</td>\n",
       "      <td>0</td>\n",
       "      <td>1</td>\n",
       "      <td>0</td>\n",
       "      <td>0</td>\n",
       "    </tr>\n",
       "    <tr>\n",
       "      <th>2</th>\n",
       "      <td>2015-01-12</td>\n",
       "      <td>2015-SW03</td>\n",
       "      <td>2015</td>\n",
       "      <td>2299</td>\n",
       "      <td>3</td>\n",
       "      <td>1</td>\n",
       "      <td>3</td>\n",
       "      <td>2015.032877</td>\n",
       "      <td>0.032877</td>\n",
       "      <td>0.387097</td>\n",
       "      <td>...</td>\n",
       "      <td>0</td>\n",
       "      <td>0</td>\n",
       "      <td>0</td>\n",
       "      <td>0</td>\n",
       "      <td>0</td>\n",
       "      <td>0</td>\n",
       "      <td>0</td>\n",
       "      <td>1</td>\n",
       "      <td>0</td>\n",
       "      <td>0</td>\n",
       "    </tr>\n",
       "    <tr>\n",
       "      <th>3</th>\n",
       "      <td>2015-01-19</td>\n",
       "      <td>2015-SW04</td>\n",
       "      <td>2015</td>\n",
       "      <td>2300</td>\n",
       "      <td>4</td>\n",
       "      <td>1</td>\n",
       "      <td>4</td>\n",
       "      <td>2015.052055</td>\n",
       "      <td>0.052055</td>\n",
       "      <td>0.612903</td>\n",
       "      <td>...</td>\n",
       "      <td>0</td>\n",
       "      <td>0</td>\n",
       "      <td>-4</td>\n",
       "      <td>0</td>\n",
       "      <td>0</td>\n",
       "      <td>0</td>\n",
       "      <td>0</td>\n",
       "      <td>0</td>\n",
       "      <td>0</td>\n",
       "      <td>0</td>\n",
       "    </tr>\n",
       "    <tr>\n",
       "      <th>4</th>\n",
       "      <td>2015-01-26</td>\n",
       "      <td>2015-SW05</td>\n",
       "      <td>2015</td>\n",
       "      <td>2301</td>\n",
       "      <td>5</td>\n",
       "      <td>1</td>\n",
       "      <td>5</td>\n",
       "      <td>2015.071233</td>\n",
       "      <td>0.071233</td>\n",
       "      <td>0.838710</td>\n",
       "      <td>...</td>\n",
       "      <td>0</td>\n",
       "      <td>0</td>\n",
       "      <td>-3</td>\n",
       "      <td>0</td>\n",
       "      <td>0</td>\n",
       "      <td>0</td>\n",
       "      <td>0</td>\n",
       "      <td>0</td>\n",
       "      <td>0</td>\n",
       "      <td>0</td>\n",
       "    </tr>\n",
       "  </tbody>\n",
       "</table>\n",
       "<p>5 rows × 24 columns</p>\n",
       "</div>"
      ],
      "text/plain": [
       "    bas_date   ord_week  bas_year  bas_week  bas_yweek  ymonth  mweek  \\\n",
       "0 2014-12-29  2015-SW01      2015      2297          1       1      1   \n",
       "1 2015-01-05  2015-SW02      2015      2298          2       1      2   \n",
       "2 2015-01-12  2015-SW03      2015      2299          3       1      3   \n",
       "3 2015-01-19  2015-SW04      2015      2300          4       1      4   \n",
       "4 2015-01-26  2015-SW05      2015      2301          5       1      5   \n",
       "\n",
       "      bas_time   iy_time   im_time  ...  n_nyd_tgd  tgd_ind  nyd_ind  chobok  \\\n",
       "0  2014.994521  0.994521  0.935484  ...          0        0        0       0   \n",
       "1  2015.013699  0.013699  0.161290  ...          0        0        0       0   \n",
       "2  2015.032877  0.032877  0.387097  ...          0        0        0       0   \n",
       "3  2015.052055  0.052055  0.612903  ...          0        0       -4       0   \n",
       "4  2015.071233  0.071233  0.838710  ...          0        0       -3       0   \n",
       "\n",
       "   joongbok  malbok  summer_vac  winter_vac  spring_vac  covid19  \n",
       "0         0       0           0           0           0        0  \n",
       "1         0       0           0           1           0        0  \n",
       "2         0       0           0           1           0        0  \n",
       "3         0       0           0           0           0        0  \n",
       "4         0       0           0           0           0        0  \n",
       "\n",
       "[5 rows x 24 columns]"
      ]
     },
     "execution_count": 14,
     "metadata": {},
     "output_type": "execute_result"
    }
   ],
   "source": [
    "cal_data = pd.read_excel(\"./data/new_달력마스터.xlsx\")\n",
    "print(cal_data.shape)\n",
    "cal_data.head()"
   ]
  },
  {
   "cell_type": "code",
   "execution_count": 15,
   "id": "bbe92a96",
   "metadata": {},
   "outputs": [
    {
     "data": {
      "text/html": [
       "<div>\n",
       "<style scoped>\n",
       "    .dataframe tbody tr th:only-of-type {\n",
       "        vertical-align: middle;\n",
       "    }\n",
       "\n",
       "    .dataframe tbody tr th {\n",
       "        vertical-align: top;\n",
       "    }\n",
       "\n",
       "    .dataframe thead th {\n",
       "        text-align: right;\n",
       "    }\n",
       "</style>\n",
       "<table border=\"1\" class=\"dataframe\">\n",
       "  <thead>\n",
       "    <tr style=\"text-align: right;\">\n",
       "      <th></th>\n",
       "      <th>자재코드</th>\n",
       "      <th>주문주차</th>\n",
       "      <th>주문수량</th>\n",
       "      <th>결품수량</th>\n",
       "      <th>y</th>\n",
       "      <th>bas_date</th>\n",
       "      <th>ord_week</th>\n",
       "      <th>bas_year</th>\n",
       "      <th>bas_week</th>\n",
       "      <th>bas_yweek</th>\n",
       "      <th>...</th>\n",
       "      <th>n_nyd_tgd</th>\n",
       "      <th>tgd_ind</th>\n",
       "      <th>nyd_ind</th>\n",
       "      <th>chobok</th>\n",
       "      <th>joongbok</th>\n",
       "      <th>malbok</th>\n",
       "      <th>summer_vac</th>\n",
       "      <th>winter_vac</th>\n",
       "      <th>spring_vac</th>\n",
       "      <th>covid19</th>\n",
       "    </tr>\n",
       "  </thead>\n",
       "  <tbody>\n",
       "    <tr>\n",
       "      <th>0</th>\n",
       "      <td>1000043</td>\n",
       "      <td>2015-SW01</td>\n",
       "      <td>566</td>\n",
       "      <td>4</td>\n",
       "      <td>562</td>\n",
       "      <td>2014-12-29</td>\n",
       "      <td>2015-SW01</td>\n",
       "      <td>2015</td>\n",
       "      <td>2297</td>\n",
       "      <td>1</td>\n",
       "      <td>...</td>\n",
       "      <td>0</td>\n",
       "      <td>0</td>\n",
       "      <td>0</td>\n",
       "      <td>0</td>\n",
       "      <td>0</td>\n",
       "      <td>0</td>\n",
       "      <td>0</td>\n",
       "      <td>0</td>\n",
       "      <td>0</td>\n",
       "      <td>0</td>\n",
       "    </tr>\n",
       "    <tr>\n",
       "      <th>1</th>\n",
       "      <td>1000043</td>\n",
       "      <td>2015-SW02</td>\n",
       "      <td>512</td>\n",
       "      <td>2</td>\n",
       "      <td>510</td>\n",
       "      <td>2015-01-05</td>\n",
       "      <td>2015-SW02</td>\n",
       "      <td>2015</td>\n",
       "      <td>2298</td>\n",
       "      <td>2</td>\n",
       "      <td>...</td>\n",
       "      <td>0</td>\n",
       "      <td>0</td>\n",
       "      <td>0</td>\n",
       "      <td>0</td>\n",
       "      <td>0</td>\n",
       "      <td>0</td>\n",
       "      <td>0</td>\n",
       "      <td>1</td>\n",
       "      <td>0</td>\n",
       "      <td>0</td>\n",
       "    </tr>\n",
       "    <tr>\n",
       "      <th>2</th>\n",
       "      <td>1000043</td>\n",
       "      <td>2015-SW03</td>\n",
       "      <td>494</td>\n",
       "      <td>10</td>\n",
       "      <td>484</td>\n",
       "      <td>2015-01-12</td>\n",
       "      <td>2015-SW03</td>\n",
       "      <td>2015</td>\n",
       "      <td>2299</td>\n",
       "      <td>3</td>\n",
       "      <td>...</td>\n",
       "      <td>0</td>\n",
       "      <td>0</td>\n",
       "      <td>0</td>\n",
       "      <td>0</td>\n",
       "      <td>0</td>\n",
       "      <td>0</td>\n",
       "      <td>0</td>\n",
       "      <td>1</td>\n",
       "      <td>0</td>\n",
       "      <td>0</td>\n",
       "    </tr>\n",
       "    <tr>\n",
       "      <th>3</th>\n",
       "      <td>1000043</td>\n",
       "      <td>2015-SW04</td>\n",
       "      <td>480</td>\n",
       "      <td>3</td>\n",
       "      <td>477</td>\n",
       "      <td>2015-01-19</td>\n",
       "      <td>2015-SW04</td>\n",
       "      <td>2015</td>\n",
       "      <td>2300</td>\n",
       "      <td>4</td>\n",
       "      <td>...</td>\n",
       "      <td>0</td>\n",
       "      <td>0</td>\n",
       "      <td>-4</td>\n",
       "      <td>0</td>\n",
       "      <td>0</td>\n",
       "      <td>0</td>\n",
       "      <td>0</td>\n",
       "      <td>0</td>\n",
       "      <td>0</td>\n",
       "      <td>0</td>\n",
       "    </tr>\n",
       "    <tr>\n",
       "      <th>4</th>\n",
       "      <td>1000043</td>\n",
       "      <td>2015-SW05</td>\n",
       "      <td>493</td>\n",
       "      <td>4</td>\n",
       "      <td>489</td>\n",
       "      <td>2015-01-26</td>\n",
       "      <td>2015-SW05</td>\n",
       "      <td>2015</td>\n",
       "      <td>2301</td>\n",
       "      <td>5</td>\n",
       "      <td>...</td>\n",
       "      <td>0</td>\n",
       "      <td>0</td>\n",
       "      <td>-3</td>\n",
       "      <td>0</td>\n",
       "      <td>0</td>\n",
       "      <td>0</td>\n",
       "      <td>0</td>\n",
       "      <td>0</td>\n",
       "      <td>0</td>\n",
       "      <td>0</td>\n",
       "    </tr>\n",
       "  </tbody>\n",
       "</table>\n",
       "<p>5 rows × 29 columns</p>\n",
       "</div>"
      ],
      "text/plain": [
       "      자재코드       주문주차  주문수량  결품수량    y   bas_date   ord_week  bas_year  \\\n",
       "0  1000043  2015-SW01   566     4  562 2014-12-29  2015-SW01      2015   \n",
       "1  1000043  2015-SW02   512     2  510 2015-01-05  2015-SW02      2015   \n",
       "2  1000043  2015-SW03   494    10  484 2015-01-12  2015-SW03      2015   \n",
       "3  1000043  2015-SW04   480     3  477 2015-01-19  2015-SW04      2015   \n",
       "4  1000043  2015-SW05   493     4  489 2015-01-26  2015-SW05      2015   \n",
       "\n",
       "   bas_week  bas_yweek  ...  n_nyd_tgd  tgd_ind  nyd_ind  chobok  joongbok  \\\n",
       "0      2297          1  ...          0        0        0       0         0   \n",
       "1      2298          2  ...          0        0        0       0         0   \n",
       "2      2299          3  ...          0        0        0       0         0   \n",
       "3      2300          4  ...          0        0       -4       0         0   \n",
       "4      2301          5  ...          0        0       -3       0         0   \n",
       "\n",
       "   malbok  summer_vac  winter_vac  spring_vac  covid19  \n",
       "0       0           0           0           0        0  \n",
       "1       0           0           1           0        0  \n",
       "2       0           0           1           0        0  \n",
       "3       0           0           0           0        0  \n",
       "4       0           0           0           0        0  \n",
       "\n",
       "[5 rows x 29 columns]"
      ]
     },
     "execution_count": 15,
     "metadata": {},
     "output_type": "execute_result"
    }
   ],
   "source": [
    "data = pd.merge(data, cal_data, left_on=\"주문주차\", right_on=\"ord_week\", how=\"left\")\n",
    "data.head()"
   ]
  },
  {
   "cell_type": "code",
   "execution_count": 16,
   "id": "25535c19",
   "metadata": {},
   "outputs": [],
   "source": [
    "data.to_excel(\"./data/train_data_20230125.xlsx\", index=False)"
   ]
  },
  {
   "cell_type": "markdown",
   "id": "83efeefb",
   "metadata": {},
   "source": [
    "### DLinear 모델 정의"
   ]
  },
  {
   "cell_type": "code",
   "execution_count": 17,
   "id": "9cff9fba",
   "metadata": {},
   "outputs": [],
   "source": [
    "# 시계열 데이터 분해하는 부분\n",
    "class moving_avg(nn.Module):\n",
    "    \"\"\"\n",
    "    Moving average block to highlight the trend of time series\n",
    "    \"\"\"\n",
    "    def __init__(self, kernel_size, stride):\n",
    "        super(moving_avg, self).__init__()\n",
    "        self.kernel_size = kernel_size\n",
    "        self.avg = nn.AvgPool1d(kernel_size=kernel_size, stride=stride, padding=0)\n",
    "        \n",
    "    def forward(self, x):\n",
    "        # padding on the both ends of time series\n",
    "        front = x[:, 0:1, :].repeat(1, (self.kernel_size - 1) // 2, 1)\n",
    "        end = x[:, -1:, :].repeat(1, (self.kernel_size - 1) // 2, 1)\n",
    "        \n",
    "        x = torch.cat([front, x, end], dim=1)\n",
    "        x = self.avg(x.permute(0, 2, 1))\n",
    "        x = x.permute(0, 2, 1)\n",
    "        \n",
    "        return x\n",
    "\n",
    "class series_decomp(nn.Module):\n",
    "    \"\"\"\n",
    "    Series decomposition block\n",
    "    \"\"\"\n",
    "    def __init__(self, kernel_size):\n",
    "        super(series_decomp, self).__init__()\n",
    "        self.moving_avg = moving_avg(kernel_size, stride=1)\n",
    "    \n",
    "    def forward(self, x):\n",
    "        moving_mean = self.moving_avg(x)\n",
    "        res = x - moving_mean\n",
    "        \n",
    "        return res, moving_mean"
   ]
  },
  {
   "cell_type": "code",
   "execution_count": 18,
   "id": "b8163caa",
   "metadata": {},
   "outputs": [],
   "source": [
    "# 1-layer linear network 구현 부분\n",
    "class DLinear(nn.Module):\n",
    "    \"\"\"\n",
    "    DLinear model\n",
    "    \"\"\"\n",
    "    def __init__(self, configs):\n",
    "        super(DLinear, self).__init__()\n",
    "        self.seq_len = configs['seq_len']\n",
    "        self.pred_len = configs['pred_len']\n",
    "        \n",
    "        # Decomposition Kernel Size\n",
    "        kernel_size = 5\n",
    "        self.decomposition = series_decomp(kernel_size)\n",
    "        self.individual = configs['individual']\n",
    "        self.channels = configs['enc_in']\n",
    "        \n",
    "        if self.individual:\n",
    "            self.Linear_Seasonal = nn.ModuleList()\n",
    "            self.Linear_Trend = nn.ModuleList()\n",
    "            self.Linear_Decoder = nn.ModuleList()\n",
    "            for i in range(self.channels):\n",
    "                self.Linear_Seasonal.append(nn.Linear(self.seq_len, self.pred_len))\n",
    "                self.Linear_Seasonal[i].weight = nn.Parameter((1 / self.seq_len) * torch.ones([self.pred_len, self.seq_len]))\n",
    "                self.Linear_Trend.append(nn.Linear(self.seq_len, self.pred_len))\n",
    "                self.Linear_Trend[i].weight = nn.Parameter((1 / self.seq_len) * torch.ones([self.pred_len, self.seq_len]))\n",
    "                self.Linear_Decoder.append(nn.Linear(self.seq_len, self.pred_len))\n",
    "        else:\n",
    "            self.Linear_Seasonal = nn.Linear(self.seq_len, self.pred_len)\n",
    "            self.Linear_Trend = nn.Linear(self.seq_len, self.pred_len)\n",
    "            self.Linear_Decoder = nn.Linear(self.seq_len, self.pred_len)\n",
    "            self.Linear_Seasonal.weight = nn.Parameter((1 / self.seq_len) * torch.ones([self.pred_len, self.seq_len]))\n",
    "            self.Linear_Trend.weight = nn.Parameter((1 / self.seq_len) * torch.ones([self.pred_len, self.seq_len]))\n",
    "    \n",
    "    def forward(self, x):\n",
    "        # x: [Batch, Input Length, Channel]\n",
    "#         seasonal_init, trend_init = self.decomposition(x.unsqueeze(0).permute(1, 2, 0))\n",
    "        seasonal_init, trend_init = self.decomposition(x)\n",
    "        seasonal_init, trend_init = seasonal_init.permute(0, 2, 1), trend_init.permute(0, 2, 1)\n",
    "        if self.individual:\n",
    "            seasonal_output = torch.zeros([seasonal_init.size(0), seasonal_init.size(1), self.pred_len], dtype=seasonal_init.dtype).to(seasonal_init.device)\n",
    "            trend_output = torch.zeros([trend_init.size(0), trend_init.size(1), self.pred_len], dtype=trend_init.dtype).to(trend_init.device)\n",
    "            for i in range(self.channels):\n",
    "                seasonal_output[:, i, :] = self.Linear_Seasonal[i](seasonal_init[:, i, :])\n",
    "                trend_output[:, i, :] = self.Linear_Trend[i](trend_init[:, i, :])\n",
    "        else:\n",
    "            seasonal_output = self.Linear_Seasonal(seasonal_init)\n",
    "            trend_output = self.Linear_Trend(trend_init)\n",
    "        \n",
    "        x = seasonal_output + trend_output\n",
    "        return x.permute(0, 2, 1)  # to [Batch, Output length, Channel]"
   ]
  },
  {
   "cell_type": "markdown",
   "id": "f342a94c",
   "metadata": {},
   "source": [
    "### Dataset 정의"
   ]
  },
  {
   "cell_type": "code",
   "execution_count": 19,
   "id": "c6693bda",
   "metadata": {},
   "outputs": [],
   "source": [
    "class Dataset_Custom(Dataset):\n",
    "    def __init__(self, data=None, size=None, flag='train'):\n",
    "        self.data = data\n",
    "        \n",
    "        # size = [seq_len, label_len, pred_len]\n",
    "        self.seq_len = size[0]\n",
    "        self.label_len = size[1]\n",
    "        self.pred_len = size[2]\n",
    "        self.flag = flag\n",
    "        \n",
    "        self.data_x = self.data[:len(self.data) - self.pred_len]\n",
    "        self.data_y = self.data[:len(self.data) - self.pred_len]\n",
    "    \n",
    "    def __getitem__(self, index):\n",
    "        s_begin = index\n",
    "        s_end = s_begin + self.seq_len\n",
    "        r_begin = s_end - self.label_len\n",
    "        r_end = r_begin + self.label_len + self.pred_len\n",
    "        \n",
    "        seq_x = self.data_x[s_begin:s_end]\n",
    "        seq_y = self.data_y[r_begin:r_end]\n",
    "        \n",
    "        return seq_x, seq_y\n",
    "    \n",
    "    def __len__(self):\n",
    "        if self.flag == 'train':\n",
    "            return len(self.data_x) - self.seq_len - self.pred_len + 1\n",
    "        else:\n",
    "            return len(self.data_x) - self.seq_len + 1"
   ]
  },
  {
   "cell_type": "markdown",
   "id": "91d0f78d",
   "metadata": {},
   "source": [
    "### Train & inference 함수 생성"
   ]
  },
  {
   "cell_type": "code",
   "execution_count": 20,
   "id": "85f7815c",
   "metadata": {},
   "outputs": [],
   "source": [
    "def train(model, optimizer, train_loader, device, epochs=1):\n",
    "    model.to(device)\n",
    "    criterion = nn.MSELoss().to(device)\n",
    "    \n",
    "    for epoch in range(epochs, config['epoch'] + 1):\n",
    "        model.train()\n",
    "        train_loss = []\n",
    "        \n",
    "        for batch_x, batch_y in iter(train_loader):\n",
    "            batch_x = batch_x.float().to(device)\n",
    "            batch_y = batch_y.float().to(device)\n",
    "            \n",
    "            optimizer.zero_grad()\n",
    "            \n",
    "            output = model(batch_x)\n",
    "            # univariate일 경우\n",
    "#             output = output[:, -config['pred_len']:].flatten()\n",
    "#             batch_y = batch_y[:, -config['pred_len']:].flatten()\n",
    "            \n",
    "            # multivariate일 경우\n",
    "            output = output[:, -config['pred_len']:, -1:]\n",
    "            batch_y = batch_y[:, -config['pred_len']:, -1:]\n",
    "            loss = criterion(output, batch_y)\n",
    "            \n",
    "            loss.backward()\n",
    "            optimizer.step()\n",
    "            \n",
    "            train_loss.append(loss.item())\n",
    "\n",
    "        _train_loss = np.mean(train_loss)\n",
    "#         print(f'Epoch [{epoch}], Train Loss : [{_train_loss:.5f}]')\n",
    "    \n",
    "    return model"
   ]
  },
  {
   "cell_type": "code",
   "execution_count": 21,
   "id": "e569ecd7",
   "metadata": {},
   "outputs": [],
   "source": [
    "def inference(model, test_loader, device):\n",
    "    model.to(device)\n",
    "    model.eval()\n",
    "    predictions = []\n",
    "    \n",
    "    with torch.no_grad():\n",
    "        for batch_x, batch_y in iter(test_loader):\n",
    "            batch_x = batch_x.float().to(device)\n",
    "            batch_y = batch_y.float().to(device)\n",
    "            \n",
    "            probs = model(batch_x)\n",
    "            \n",
    "            probs = probs.cpu().detach().numpy()\n",
    "            if len(probs.shape) == 3:  # multivariate일 경우\n",
    "                probs = probs[:, -config['pred_len']:, -1:]\n",
    "            predictions.append(probs)\n",
    "\n",
    "    predictions = predictions[0].flatten()\n",
    "    return predictions"
   ]
  },
  {
   "cell_type": "markdown",
   "id": "a13487b8",
   "metadata": {},
   "source": [
    "### BackTest"
   ]
  },
  {
   "cell_type": "code",
   "execution_count": 22,
   "id": "5498670a",
   "metadata": {},
   "outputs": [
    {
     "data": {
      "text/plain": [
       "Index(['자재코드', '주문주차', '주문수량', '결품수량', 'y', 'bas_date', 'ord_week', 'bas_year',\n",
       "       'bas_week', 'bas_yweek', 'ymonth', 'mweek', 'bas_time', 'iy_time',\n",
       "       'im_time', 'nyddist', 'tgddist', 'bhdist', 'n_holiday', 'n_nyd_tgd',\n",
       "       'tgd_ind', 'nyd_ind', 'chobok', 'joongbok', 'malbok', 'summer_vac',\n",
       "       'winter_vac', 'spring_vac', 'covid19'],\n",
       "      dtype='object')"
      ]
     },
     "execution_count": 22,
     "metadata": {},
     "output_type": "execute_result"
    }
   ],
   "source": [
    "data.columns"
   ]
  },
  {
   "cell_type": "code",
   "execution_count": 23,
   "id": "75196e7f",
   "metadata": {},
   "outputs": [],
   "source": [
    "feat_col = ['bas_yweek', 'ymonth', 'mweek', 'nyddist', 'tgddist', 'bhdist', 'n_holiday', 'n_nyd_tgd', 'y']\n",
    "config['enc_in'] = len(feat_col)"
   ]
  },
  {
   "cell_type": "code",
   "execution_count": 28,
   "id": "fc745165",
   "metadata": {
    "scrolled": true
   },
   "outputs": [
    {
     "name": "stdout",
     "output_type": "stream",
     "text": [
      "2709주차 학습 진행...\n"
     ]
    },
    {
     "data": {
      "application/vnd.jupyter.widget-view+json": {
       "model_id": "0a871b8877eb45d2bab8bc7904dc9ae4",
       "version_major": 2,
       "version_minor": 0
      },
      "text/plain": [
       "  0%|          | 0/858 [00:00<?, ?it/s]"
      ]
     },
     "metadata": {},
     "output_type": "display_data"
    },
    {
     "name": "stdout",
     "output_type": "stream",
     "text": [
      "__len__() should return >= 0\n",
      "Error code: 1024146 Length of data: 27\n",
      "__len__() should return >= 0\n",
      "Error code: 1024241 Length of data: 31\n",
      "__len__() should return >= 0\n",
      "Error code: 1024243 Length of data: 34\n",
      "__len__() should return >= 0\n",
      "Error code: 1024318 Length of data: 33\n",
      "__len__() should return >= 0\n",
      "Error code: 1024319 Length of data: 24\n",
      "__len__() should return >= 0\n",
      "Error code: 1024615 Length of data: 28\n",
      "__len__() should return >= 0\n",
      "Error code: 1024622 Length of data: 29\n",
      "__len__() should return >= 0\n",
      "Error code: 1024629 Length of data: 32\n",
      "__len__() should return >= 0\n",
      "Error code: 1024646 Length of data: 28\n",
      "__len__() should return >= 0\n",
      "Error code: 1024680 Length of data: 26\n",
      "__len__() should return >= 0\n",
      "Error code: 1024816 Length of data: 19\n",
      "__len__() should return >= 0\n",
      "Error code: 1024838 Length of data: 19\n",
      "__len__() should return >= 0\n",
      "Error code: 2034599 Length of data: 23\n",
      "__len__() should return >= 0\n",
      "Error code: 2034758 Length of data: 13\n",
      "__len__() should return >= 0\n",
      "Error code: 2036111 Length of data: 21\n",
      "__len__() should return >= 0\n",
      "Error code: 2036469 Length of data: 21\n",
      "__len__() should return >= 0\n",
      "Error code: 2036470 Length of data: 28\n",
      "__len__() should return >= 0\n",
      "Error code: 2036471 Length of data: 31\n",
      "__len__() should return >= 0\n",
      "Error code: 2036472 Length of data: 31\n",
      "__len__() should return >= 0\n",
      "Error code: 2036939 Length of data: 26\n",
      "__len__() should return >= 0\n",
      "Error code: 2036944 Length of data: 33\n",
      "__len__() should return >= 0\n",
      "Error code: 2036945 Length of data: 34\n",
      "__len__() should return >= 0\n",
      "Error code: 2037967 Length of data: 15\n",
      "__len__() should return >= 0\n",
      "Error code: 2037988 Length of data: 13\n",
      "2709 학습 완료: (834, 4)\n",
      "-----------------------------------\n",
      "2710주차 학습 진행...\n"
     ]
    },
    {
     "data": {
      "application/vnd.jupyter.widget-view+json": {
       "model_id": "099e21d42def42e6804a2692eba032cb",
       "version_major": 2,
       "version_minor": 0
      },
      "text/plain": [
       "  0%|          | 0/858 [00:00<?, ?it/s]"
      ]
     },
     "metadata": {},
     "output_type": "display_data"
    },
    {
     "name": "stdout",
     "output_type": "stream",
     "text": [
      "__len__() should return >= 0\n",
      "Error code: 1024146 Length of data: 27\n",
      "__len__() should return >= 0\n",
      "Error code: 1024241 Length of data: 31\n"
     ]
    },
    {
     "name": "stderr",
     "output_type": "stream",
     "text": [
      "D:\\jupyter\\lib\\site-packages\\numpy\\core\\fromnumeric.py:3432: RuntimeWarning: Mean of empty slice.\n",
      "  return _methods._mean(a, axis=axis, dtype=dtype,\n",
      "D:\\jupyter\\lib\\site-packages\\numpy\\core\\_methods.py:190: RuntimeWarning: invalid value encountered in double_scalars\n",
      "  ret = ret.dtype.type(ret / rcount)\n"
     ]
    },
    {
     "name": "stdout",
     "output_type": "stream",
     "text": [
      "__len__() should return >= 0\n",
      "Error code: 1024318 Length of data: 33\n",
      "__len__() should return >= 0\n",
      "Error code: 1024319 Length of data: 24\n",
      "__len__() should return >= 0\n",
      "Error code: 1024615 Length of data: 28\n",
      "__len__() should return >= 0\n",
      "Error code: 1024622 Length of data: 29\n",
      "__len__() should return >= 0\n",
      "Error code: 1024629 Length of data: 32\n",
      "__len__() should return >= 0\n",
      "Error code: 1024646 Length of data: 28\n",
      "__len__() should return >= 0\n",
      "Error code: 1024680 Length of data: 26\n",
      "__len__() should return >= 0\n",
      "Error code: 1024816 Length of data: 19\n",
      "__len__() should return >= 0\n",
      "Error code: 1024838 Length of data: 19\n",
      "__len__() should return >= 0\n",
      "Error code: 2034599 Length of data: 23\n",
      "__len__() should return >= 0\n",
      "Error code: 2034758 Length of data: 13\n",
      "__len__() should return >= 0\n",
      "Error code: 2036111 Length of data: 21\n",
      "__len__() should return >= 0\n",
      "Error code: 2036469 Length of data: 21\n",
      "__len__() should return >= 0\n",
      "Error code: 2036470 Length of data: 28\n",
      "__len__() should return >= 0\n",
      "Error code: 2036471 Length of data: 31\n",
      "__len__() should return >= 0\n",
      "Error code: 2036472 Length of data: 31\n",
      "__len__() should return >= 0\n",
      "Error code: 2036939 Length of data: 26\n",
      "__len__() should return >= 0\n",
      "Error code: 2036944 Length of data: 33\n",
      "__len__() should return >= 0\n",
      "Error code: 2037967 Length of data: 15\n",
      "__len__() should return >= 0\n",
      "Error code: 2037988 Length of data: 13\n"
     ]
    },
    {
     "name": "stderr",
     "output_type": "stream",
     "text": [
      "D:\\jupyter\\lib\\site-packages\\numpy\\core\\fromnumeric.py:3432: RuntimeWarning: Mean of empty slice.\n",
      "  return _methods._mean(a, axis=axis, dtype=dtype,\n",
      "D:\\jupyter\\lib\\site-packages\\numpy\\core\\_methods.py:190: RuntimeWarning: invalid value encountered in double_scalars\n",
      "  ret = ret.dtype.type(ret / rcount)\n"
     ]
    },
    {
     "name": "stdout",
     "output_type": "stream",
     "text": [
      "2710 학습 완료: (836, 4)\n",
      "-----------------------------------\n",
      "2711주차 학습 진행...\n"
     ]
    },
    {
     "data": {
      "application/vnd.jupyter.widget-view+json": {
       "model_id": "32f7207a5c40411dac1de6e95054a111",
       "version_major": 2,
       "version_minor": 0
      },
      "text/plain": [
       "  0%|          | 0/858 [00:00<?, ?it/s]"
      ]
     },
     "metadata": {},
     "output_type": "display_data"
    },
    {
     "name": "stdout",
     "output_type": "stream",
     "text": [
      "__len__() should return >= 0\n",
      "Error code: 1024146 Length of data: 27\n",
      "__len__() should return >= 0\n",
      "Error code: 1024241 Length of data: 31\n"
     ]
    },
    {
     "name": "stderr",
     "output_type": "stream",
     "text": [
      "D:\\jupyter\\lib\\site-packages\\numpy\\core\\fromnumeric.py:3432: RuntimeWarning: Mean of empty slice.\n",
      "  return _methods._mean(a, axis=axis, dtype=dtype,\n",
      "D:\\jupyter\\lib\\site-packages\\numpy\\core\\_methods.py:190: RuntimeWarning: invalid value encountered in double_scalars\n",
      "  ret = ret.dtype.type(ret / rcount)\n"
     ]
    },
    {
     "name": "stdout",
     "output_type": "stream",
     "text": [
      "__len__() should return >= 0\n",
      "Error code: 1024319 Length of data: 24\n",
      "__len__() should return >= 0\n",
      "Error code: 1024615 Length of data: 28\n",
      "__len__() should return >= 0\n",
      "Error code: 1024622 Length of data: 29\n",
      "__len__() should return >= 0\n",
      "Error code: 1024629 Length of data: 32\n",
      "__len__() should return >= 0\n",
      "Error code: 1024646 Length of data: 28\n",
      "__len__() should return >= 0\n",
      "Error code: 1024680 Length of data: 26\n",
      "__len__() should return >= 0\n",
      "Error code: 1024816 Length of data: 19\n",
      "__len__() should return >= 0\n",
      "Error code: 1024838 Length of data: 19\n",
      "__len__() should return >= 0\n",
      "Error code: 2034599 Length of data: 23\n",
      "__len__() should return >= 0\n",
      "Error code: 2034758 Length of data: 13\n",
      "__len__() should return >= 0\n",
      "Error code: 2036111 Length of data: 21\n",
      "__len__() should return >= 0\n",
      "Error code: 2036469 Length of data: 21\n",
      "__len__() should return >= 0\n",
      "Error code: 2036470 Length of data: 28\n",
      "__len__() should return >= 0\n",
      "Error code: 2036471 Length of data: 31\n",
      "__len__() should return >= 0\n",
      "Error code: 2036472 Length of data: 31\n",
      "__len__() should return >= 0\n",
      "Error code: 2036939 Length of data: 26\n"
     ]
    },
    {
     "name": "stderr",
     "output_type": "stream",
     "text": [
      "D:\\jupyter\\lib\\site-packages\\numpy\\core\\fromnumeric.py:3432: RuntimeWarning: Mean of empty slice.\n",
      "  return _methods._mean(a, axis=axis, dtype=dtype,\n",
      "D:\\jupyter\\lib\\site-packages\\numpy\\core\\_methods.py:190: RuntimeWarning: invalid value encountered in double_scalars\n",
      "  ret = ret.dtype.type(ret / rcount)\n"
     ]
    },
    {
     "name": "stdout",
     "output_type": "stream",
     "text": [
      "__len__() should return >= 0\n",
      "Error code: 2037967 Length of data: 15\n",
      "__len__() should return >= 0\n",
      "Error code: 2037988 Length of data: 13\n",
      "2711 학습 완료: (838, 4)\n",
      "-----------------------------------\n",
      "2712주차 학습 진행...\n"
     ]
    },
    {
     "data": {
      "application/vnd.jupyter.widget-view+json": {
       "model_id": "da237588eaee45cc92bd7a713e488647",
       "version_major": 2,
       "version_minor": 0
      },
      "text/plain": [
       "  0%|          | 0/858 [00:00<?, ?it/s]"
      ]
     },
     "metadata": {},
     "output_type": "display_data"
    },
    {
     "name": "stdout",
     "output_type": "stream",
     "text": [
      "__len__() should return >= 0\n",
      "Error code: 1024146 Length of data: 27\n",
      "__len__() should return >= 0\n",
      "Error code: 1024241 Length of data: 31\n",
      "__len__() should return >= 0\n",
      "Error code: 1024319 Length of data: 24\n",
      "__len__() should return >= 0\n",
      "Error code: 1024615 Length of data: 28\n",
      "__len__() should return >= 0\n",
      "Error code: 1024622 Length of data: 29\n",
      "__len__() should return >= 0\n",
      "Error code: 1024646 Length of data: 28\n",
      "__len__() should return >= 0\n",
      "Error code: 1024680 Length of data: 26\n",
      "__len__() should return >= 0\n",
      "Error code: 1024816 Length of data: 19\n",
      "__len__() should return >= 0\n",
      "Error code: 1024838 Length of data: 19\n"
     ]
    },
    {
     "name": "stderr",
     "output_type": "stream",
     "text": [
      "D:\\jupyter\\lib\\site-packages\\numpy\\core\\fromnumeric.py:3432: RuntimeWarning: Mean of empty slice.\n",
      "  return _methods._mean(a, axis=axis, dtype=dtype,\n",
      "D:\\jupyter\\lib\\site-packages\\numpy\\core\\_methods.py:190: RuntimeWarning: invalid value encountered in double_scalars\n",
      "  ret = ret.dtype.type(ret / rcount)\n"
     ]
    },
    {
     "name": "stdout",
     "output_type": "stream",
     "text": [
      "__len__() should return >= 0\n",
      "Error code: 2034599 Length of data: 23\n",
      "__len__() should return >= 0\n",
      "Error code: 2034758 Length of data: 13\n",
      "__len__() should return >= 0\n",
      "Error code: 2036111 Length of data: 21\n",
      "__len__() should return >= 0\n",
      "Error code: 2036469 Length of data: 21\n",
      "__len__() should return >= 0\n",
      "Error code: 2036470 Length of data: 28\n",
      "__len__() should return >= 0\n",
      "Error code: 2036471 Length of data: 31\n",
      "__len__() should return >= 0\n",
      "Error code: 2036472 Length of data: 31\n",
      "__len__() should return >= 0\n",
      "Error code: 2036939 Length of data: 26\n",
      "__len__() should return >= 0\n",
      "Error code: 2037967 Length of data: 15\n",
      "__len__() should return >= 0\n",
      "Error code: 2037988 Length of data: 13\n",
      "2712 학습 완료: (839, 4)\n",
      "-----------------------------------\n",
      "2713주차 학습 진행...\n"
     ]
    },
    {
     "data": {
      "application/vnd.jupyter.widget-view+json": {
       "model_id": "17bb9cf5a316401ab0c4b0b41751567a",
       "version_major": 2,
       "version_minor": 0
      },
      "text/plain": [
       "  0%|          | 0/858 [00:00<?, ?it/s]"
      ]
     },
     "metadata": {},
     "output_type": "display_data"
    },
    {
     "name": "stdout",
     "output_type": "stream",
     "text": [
      "__len__() should return >= 0\n",
      "Error code: 1024146 Length of data: 27\n"
     ]
    },
    {
     "name": "stderr",
     "output_type": "stream",
     "text": [
      "D:\\jupyter\\lib\\site-packages\\numpy\\core\\fromnumeric.py:3432: RuntimeWarning: Mean of empty slice.\n",
      "  return _methods._mean(a, axis=axis, dtype=dtype,\n",
      "D:\\jupyter\\lib\\site-packages\\numpy\\core\\_methods.py:190: RuntimeWarning: invalid value encountered in double_scalars\n",
      "  ret = ret.dtype.type(ret / rcount)\n"
     ]
    },
    {
     "name": "stdout",
     "output_type": "stream",
     "text": [
      "__len__() should return >= 0\n",
      "Error code: 1024319 Length of data: 24\n",
      "__len__() should return >= 0\n",
      "Error code: 1024615 Length of data: 28\n",
      "__len__() should return >= 0\n",
      "Error code: 1024622 Length of data: 29\n",
      "__len__() should return >= 0\n",
      "Error code: 1024646 Length of data: 28\n",
      "__len__() should return >= 0\n",
      "Error code: 1024680 Length of data: 26\n",
      "__len__() should return >= 0\n",
      "Error code: 1024816 Length of data: 19\n",
      "__len__() should return >= 0\n",
      "Error code: 1024838 Length of data: 19\n",
      "__len__() should return >= 0\n",
      "Error code: 2034599 Length of data: 23\n",
      "__len__() should return >= 0\n",
      "Error code: 2034758 Length of data: 13\n",
      "__len__() should return >= 0\n",
      "Error code: 2036111 Length of data: 21\n",
      "__len__() should return >= 0\n",
      "Error code: 2036469 Length of data: 21\n",
      "__len__() should return >= 0\n",
      "Error code: 2036470 Length of data: 28\n",
      "__len__() should return >= 0\n",
      "Error code: 2036939 Length of data: 26\n"
     ]
    },
    {
     "name": "stderr",
     "output_type": "stream",
     "text": [
      "D:\\jupyter\\lib\\site-packages\\numpy\\core\\fromnumeric.py:3432: RuntimeWarning: Mean of empty slice.\n",
      "  return _methods._mean(a, axis=axis, dtype=dtype,\n",
      "D:\\jupyter\\lib\\site-packages\\numpy\\core\\_methods.py:190: RuntimeWarning: invalid value encountered in double_scalars\n",
      "  ret = ret.dtype.type(ret / rcount)\n",
      "D:\\jupyter\\lib\\site-packages\\numpy\\core\\fromnumeric.py:3432: RuntimeWarning: Mean of empty slice.\n",
      "  return _methods._mean(a, axis=axis, dtype=dtype,\n",
      "D:\\jupyter\\lib\\site-packages\\numpy\\core\\_methods.py:190: RuntimeWarning: invalid value encountered in double_scalars\n",
      "  ret = ret.dtype.type(ret / rcount)\n"
     ]
    },
    {
     "name": "stdout",
     "output_type": "stream",
     "text": [
      "__len__() should return >= 0\n",
      "Error code: 2037967 Length of data: 15\n",
      "__len__() should return >= 0\n",
      "Error code: 2037988 Length of data: 13\n",
      "2713 학습 완료: (842, 4)\n",
      "-----------------------------------\n"
     ]
    }
   ],
   "source": [
    "trg_weeks = [2709, 2710, 2711, 2712, 2713]\n",
    "\n",
    "for trg_week in trg_weeks:\n",
    "    result_df = pd.DataFrame()\n",
    "    print(f\"{trg_week}주차 학습 진행...\")\n",
    "    for code in tqdm(data[\"자재코드\"].unique()):\n",
    "        try:\n",
    "            test_ts = data.iloc[np.where(data[\"자재코드\"] == code)]\n",
    "            test_ts = test_ts[test_ts[\"bas_week\"] <= trg_week]\n",
    "            train_cut = len(test_ts) - config['pred_len']\n",
    "            test_cut = train_cut - config['seq_len']\n",
    "\n",
    "            train_x = test_ts[feat_col].values[:train_cut]\n",
    "            test_x = test_ts[feat_col].values[test_cut:]\n",
    "\n",
    "            if np.average(test_ts.iloc[-config['pred_len'] - 4:-config['pred_len']][\"y\"]) == 0:  # 지난 4주동안의 평균이 0일 경우 0처리\n",
    "                preds = 0\n",
    "            else:\n",
    "                # Train data loader 정의 및 학습\n",
    "                train_dataset = Dataset_Custom(data=train_x, size=dlinear_size, flag='train')\n",
    "                train_loader = DataLoader(train_dataset, batch_size=config['batch_size'], shuffle=False, num_workers=0)\n",
    "\n",
    "                model = DLinear(config)\n",
    "                model.eval()\n",
    "                optimizer = torch.optim.Adam(params=model.parameters(), lr=config[\"learning_rate\"])\n",
    "\n",
    "                trained_model = train(model, optimizer, train_loader, device)\n",
    "\n",
    "                # Test data loader 정의 및 추론\n",
    "                test_dataset = Dataset_Custom(data=test_x, size=dlinear_size, flag='pred')\n",
    "                test_loader = DataLoader(test_dataset, batch_size=config['batch_size'], shuffle=False, num_workers=0)\n",
    "\n",
    "                preds = int(inference(model, test_loader, device)[-1])\n",
    "\n",
    "            score = cal_accuracy_rate(test_x[-1, :][-1], preds)\n",
    "\n",
    "            tmp_df = pd.DataFrame({\n",
    "                \"item_cd\": [code],\n",
    "                \"bas_week\": [trg_week],\n",
    "                \"DLinear_qty\": [preds],\n",
    "                \"score\": [score]\n",
    "            })\n",
    "\n",
    "            result_df = pd.concat([result_df, tmp_df], axis=0)\n",
    "        except Exception as e:\n",
    "            print(e)\n",
    "            print(\"Error code:\", code, \"Length of data:\", len(data.iloc[np.where(data[\"자재코드\"] == code)]))\n",
    "    \n",
    "    result_df.to_excel(f\"./result/a_class_DLinear_{trg_week}_{current_time}.xlsx\", index=False)\n",
    "    print(f\"{trg_week} 학습 완료:\", result_df.shape)\n",
    "    print(\"-\" * 35)"
   ]
  },
  {
   "cell_type": "code",
   "execution_count": 29,
   "id": "46bbb1b7",
   "metadata": {},
   "outputs": [
    {
     "data": {
      "text/plain": [
       "(4189, 4)"
      ]
     },
     "execution_count": 29,
     "metadata": {},
     "output_type": "execute_result"
    }
   ],
   "source": [
    "final_result_df = pd.DataFrame()\n",
    "\n",
    "for trg_week in trg_weeks:\n",
    "    tmp_result_df = pd.read_excel(f\"./result/a_class_DLinear_{trg_week}_{current_time}.xlsx\")\n",
    "    final_result_df = pd.concat([final_result_df, tmp_result_df])\n",
    "\n",
    "final_result_df.shape"
   ]
  },
  {
   "cell_type": "code",
   "execution_count": 30,
   "id": "c085829e",
   "metadata": {},
   "outputs": [],
   "source": [
    "final_result_df.to_excel(f\"./result/a_class_DLinear_combine_result_{current_time}.xlsx\", index=False)"
   ]
  },
  {
   "cell_type": "markdown",
   "id": "4d4a023a",
   "metadata": {},
   "source": [
    "### 기존 점수와 비교"
   ]
  },
  {
   "cell_type": "code",
   "execution_count": 31,
   "id": "496836ea",
   "metadata": {},
   "outputs": [],
   "source": [
    "pre_result = pd.read_csv(\"./data/4.수요예측결과_2021-SW28_2022-SW52.csv\")\n",
    "pre_result = pre_result.iloc[np.where(pre_result[\"bas_week\"].isin(trg_weeks))]\n",
    "\n",
    "compare_result = pd.merge(final_result_df, pre_result, how=\"left\", on=[\"item_cd\", \"bas_week\"])[[\"item_cd\", \"bas_week\", \"ord_qty\", \"fcst_qty\", \"sco_rate\", \"DLinear_qty\", \"score\"]]\n",
    "compare_result.to_excel(f\"./result/a_class_DLinear_compare_result_{current_time}.xlsx\", index=False)"
   ]
  },
  {
   "cell_type": "code",
   "execution_count": 32,
   "id": "93074abe",
   "metadata": {},
   "outputs": [
    {
     "name": "stdout",
     "output_type": "stream",
     "text": [
      "기존 점수: 71.78890801770783\n",
      "DLinear 점수: 65.52250479846448\n"
     ]
    }
   ],
   "source": [
    "print(\"기존 점수:\", np.mean(compare_result[compare_result[\"sco_rate\"] != -1][\"sco_rate\"]))\n",
    "print(\"DLinear 점수:\", np.mean(compare_result[compare_result[\"score\"] != -1][\"score\"]))"
   ]
  },
  {
   "cell_type": "code",
   "execution_count": 33,
   "id": "34a446e7",
   "metadata": {},
   "outputs": [
    {
     "name": "stdout",
     "output_type": "stream",
     "text": [
      "2709 기존 점수: 70.8813349814586\n",
      "2709 DLinear 점수: 66.24440433212997\n",
      "-----------------------------------\n",
      "2710 기존 점수: 72.96391625615763\n",
      "2710 DLinear 점수: 66.78317307692306\n",
      "-----------------------------------\n",
      "2711 기존 점수: 72.85798525798526\n",
      "2711 DLinear 점수: 66.03177458033574\n",
      "-----------------------------------\n",
      "2712 기존 점수: 71.69421894218942\n",
      "2712 DLinear 점수: 64.85203836930457\n",
      "-----------------------------------\n",
      "2713 기존 점수: 70.55036674816625\n",
      "2713 DLinear 점수: 63.71326164874552\n",
      "-----------------------------------\n",
      "기존 총평균 점수: 71.78890801770783\n",
      "DLinear 총평균 점수: 65.52250479846448\n"
     ]
    }
   ],
   "source": [
    "for trg_week in trg_weeks:\n",
    "    tmp_compare = compare_result[compare_result[\"bas_week\"] == trg_week]\n",
    "    print(f\"{trg_week} 기존 점수:\", np.mean(tmp_compare[tmp_compare[\"sco_rate\"] != -1][\"sco_rate\"]))\n",
    "    print(f\"{trg_week} DLinear 점수:\", np.mean(tmp_compare[tmp_compare[\"score\"] != -1][\"score\"]))\n",
    "    print(\"-\" * 35)\n",
    "\n",
    "print(\"기존 총평균 점수:\", np.mean(compare_result[compare_result[\"sco_rate\"] != -1][\"sco_rate\"]))\n",
    "print(\"DLinear 총평균 점수:\", np.mean(compare_result[compare_result[\"score\"] != -1][\"score\"]))"
   ]
  },
  {
   "cell_type": "code",
   "execution_count": null,
   "id": "1ebc73bf",
   "metadata": {},
   "outputs": [],
   "source": []
  }
 ],
 "metadata": {
  "kernelspec": {
   "display_name": "Python 3 (ipykernel)",
   "language": "python",
   "name": "python3"
  },
  "language_info": {
   "codemirror_mode": {
    "name": "ipython",
    "version": 3
   },
   "file_extension": ".py",
   "mimetype": "text/x-python",
   "name": "python",
   "nbconvert_exporter": "python",
   "pygments_lexer": "ipython3",
   "version": "3.9.12"
  }
 },
 "nbformat": 4,
 "nbformat_minor": 5
}
