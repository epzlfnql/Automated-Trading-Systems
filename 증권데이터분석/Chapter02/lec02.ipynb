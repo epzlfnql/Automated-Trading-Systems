{
 "cells": [
  {
   "cell_type": "code",
   "execution_count": 1,
   "metadata": {},
   "outputs": [],
   "source": [
    "import pandas as pd\n",
    "import numpy as np"
   ]
  },
  {
   "attachments": {},
   "cell_type": "markdown",
   "metadata": {},
   "source": [
    "### 연평균성장률(CAGR)\n",
    "- Compound Annual Growth Rates의 약자로 복합 연평균 성장률 또는 연복리 수익률이라고 부른다.\n",
    "- 1년동안 얼마만큼씩 증가하는지를 나타내는 값으로, 주로 투자 수익률을 표시하는데 사용되지만, 판매수량이나 사용자 증가율 등을 나타낼 때도 쓴다."
   ]
  },
  {
   "cell_type": "code",
   "execution_count": 1,
   "metadata": {},
   "outputs": [],
   "source": [
    "def getCAGR(first, last, years):\n",
    "    return (last/first) ** (1/years) -1\n",
    "\n",
    "# last: 마지막값\n",
    "# first : 처음 값\n",
    "# years : 처음 값과 마지막 값 사이의 연(year) 수"
   ]
  },
  {
   "cell_type": "code",
   "execution_count": null,
   "metadata": {},
   "outputs": [],
   "source": []
  }
 ],
 "metadata": {
  "kernelspec": {
   "display_name": "base",
   "language": "python",
   "name": "python3"
  },
  "language_info": {
   "codemirror_mode": {
    "name": "ipython",
    "version": 3
   },
   "file_extension": ".py",
   "mimetype": "text/x-python",
   "name": "python",
   "nbconvert_exporter": "python",
   "pygments_lexer": "ipython3",
   "version": "3.9.13"
  },
  "orig_nbformat": 4,
  "vscode": {
   "interpreter": {
    "hash": "605db8d3b65064e3333c32d0f697aef5cd5c59dc8656d797d98d6ecb57c2b89f"
   }
  }
 },
 "nbformat": 4,
 "nbformat_minor": 2
}
