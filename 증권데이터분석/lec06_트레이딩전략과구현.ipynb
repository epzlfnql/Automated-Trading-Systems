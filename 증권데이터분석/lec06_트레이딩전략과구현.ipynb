{
 "cells": [
  {
   "cell_type": "markdown",
   "metadata": {},
   "source": [
    "# 6. 트레이딩 전략과 구현\n"
   ]
  },
  {
   "attachments": {},
   "cell_type": "markdown",
   "metadata": {},
   "source": [
    "## 6.1 현대 포트폴리오 이론\n",
    "- 해리 맥스 마코위츠는 포트폴리오 셀렉션에 새로운 포트폴리오 구축 방법을 제시.\n",
    "- 평균-분산 최적화(mean-variance optimization)는 예상 수익률과 리스크의 상관관계를 활용해 포트폴리오를 최적화하는 기법\n"
   ]
  },
  {
   "attachments": {},
   "cell_type": "markdown",
   "metadata": {},
   "source": [
    "### 6.1.1 수익률의 표준편차\n",
    "- 수익률의 표준편차는 자산 가격이 평균값에서 벗어나는 정도, 즉 리스크를 측정하는 방법.\n",
    "- 주식 시장에서의 리스크는 흔히 주가의 변동성을 의미.\n",
    "- 정규분포 그래프에서 예상 수익률은 평균값인 u로 나타내고, 리스크는 표준편차인 시그마로 나타낸다.\n",
    "- 어떤 값이 평균에서 떨어진 정도를 편차라고 하며, 각 편차를 제곱해 더한 뒤 평균을 구한 것이 분산.\n",
    "- 단순히 편차를 더하기만 하면 0이 될 수 있기 때문에 분산을 이용하면 흩어진 정도를 더 정확히 나타낼 수 있다.\n",
    "- 표준편차는 분산의 제곱근으로 구한다."
   ]
  },
  {
   "attachments": {},
   "cell_type": "markdown",
   "metadata": {},
   "source": [
    "### 6.1.2 효율적 투자선\n",
    "- 효율적 투자선이란 현대 포트폴리오 이론의 핵심 개념으로서, 투자자가 인내할 수 있는 리스크 수준에서 최상의 기대수익률을 제공하는 포트폴리오들의 집합.\n",
    "- x 축은 리스크(표준편차)이고 y축은 예상 수익률(평균)\n",
    "- 효율적 투자선 위에 위치한 포트폴리오는 주어진 리스크에서 최대 수익"
   ]
  },
  {
   "attachments": {},
   "cell_type": "markdown",
   "metadata": {},
   "source": [
    "시총 상위 4 종목으로 효율적 투자선 구하기\n",
    "- 액면분할의 영향을 피하도록 검색 기간 재설정\n",
    "- 삼성전자(2018년 5월 4일 액면분할)\n",
    "- 네이버(2018년 10월 12일 액면분할)\n"
   ]
  },
  {
   "cell_type": "code",
   "execution_count": null,
   "metadata": {},
   "outputs": [
    {
     "ename": "",
     "evalue": "",
     "output_type": "error",
     "traceback": [
      "\u001b[1;31mRunning cells with 'c:\\Users\\user\\AppData\\Local\\Programs\\Python\\Python38\\python.exe' requires the ipykernel package.\n",
      "\u001b[1;31mRun the following command to install 'ipykernel' into the Python environment. \n",
      "\u001b[1;31mCommand: 'c:/Users/user/AppData/Local/Programs/Python/Python38/python.exe -m pip install ipykernel -U --user --force-reinstall'"
     ]
    }
   ],
   "source": [
    "import numpy as np\n"
   ]
  },
  {
   "cell_type": "code",
   "execution_count": null,
   "metadata": {},
   "outputs": [],
   "source": []
  }
 ],
 "metadata": {
  "kernelspec": {
   "display_name": "Python 3",
   "language": "python",
   "name": "python3"
  },
  "language_info": {
   "name": "python",
   "version": "3.8.3"
  },
  "orig_nbformat": 4
 },
 "nbformat": 4,
 "nbformat_minor": 2
}
