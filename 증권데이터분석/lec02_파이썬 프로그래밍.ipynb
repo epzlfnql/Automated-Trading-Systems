{
 "cells": [
  {
   "cell_type": "code",
   "execution_count": 1,
   "metadata": {},
   "outputs": [],
   "source": [
    "import pandas as pd\n",
    "import numpy as np"
   ]
  },
  {
   "attachments": {},
   "cell_type": "markdown",
   "metadata": {},
   "source": [
    "### 연평균성장률(CAGR)\n",
    "- Compound Annual Growth Rates의 약자로 복합 연평균 성장률 또는 연복리 수익률이라고 부른다.\n",
    "- 1년동안 얼마만큼씩 증가하는지를 나타내는 값으로, 주로 투자 수익률을 표시하는데 사용되지만, 판매수량이나 사용자 증가율 등을 나타낼 때도 쓴다."
   ]
  },
  {
   "cell_type": "code",
   "execution_count": 1,
   "metadata": {},
   "outputs": [],
   "source": [
    "def getCAGR(first, last, years):\n",
    "    return (last/first) ** (1/years) -1\n",
    "\n",
    "# last: 마지막값\n",
    "# first : 처음 값\n",
    "# years : 처음 값과 마지막 값 사이의 연(year) 수"
   ]
  },
  {
   "cell_type": "code",
   "execution_count": null,
   "metadata": {},
   "outputs": [],
   "source": []
  },
  {
   "attachments": {},
   "cell_type": "markdown",
   "metadata": {},
   "source": [
    "### 클래스\n",
    "- 클래스란 객체를 생성하는 틀로, 데이터 멤버라고도 불리는 속성과 독장을 수행하는 메서드\n",
    "- 인스턴스화 : 클래스로부터 객체를 생성하는 것\n"
   ]
  },
  {
   "cell_type": "code",
   "execution_count": 3,
   "metadata": {},
   "outputs": [
    {
     "name": "stdout",
     "output_type": "stream",
     "text": [
      "The best way to predict the future is to invent it.\n",
      "The best way to predict the future is to invent it.\t- Alan Curtis Kay -\n",
      "None\n"
     ]
    }
   ],
   "source": [
    "class MyFirstClass:\n",
    "    clsVar = 'The best way to predict the future is to invent it.'\n",
    "    def clsMethod(self):\n",
    "        print(MyFirstClass.clsVar + '\\t- Alan Curtis Kay -')\n",
    "\n",
    "mfc = MyFirstClass() # 인스턴스화\n",
    "\n",
    "print(mfc.clsVar) # 클래스 변수에 접근\n",
    "print(mfc.clsMethod()) # 클래스 메서드 호출\n"
   ]
  },
  {
   "attachments": {},
   "cell_type": "markdown",
   "metadata": {},
   "source": [
    "### 상속\n",
    "- 상속은 클래스가 갖는 모든 속성과 메서드를 다른 클래스에게 물려주는 기법이다.\n",
    "- 상속을 해주는 클래스를 부모 클래스 또는 슈퍼 클래스라 한다.\n",
    "- 상속받는 클래스를 자식 클래스 또는 서브 클래스라고 한다.\n",
    "- 부모의 변수나 메소드를 사용할 때는 super() 내장 함수를 호출하면 된다."
   ]
  },
  {
   "cell_type": "code",
   "execution_count": 5,
   "metadata": {},
   "outputs": [
    {
     "name": "stdout",
     "output_type": "stream",
     "text": [
      "Calling A's methodA\n",
      "calling B's methodB\n",
      "Calling C's methodC\n",
      "Calling C's overridden method\n",
      "Calling A's method\n"
     ]
    }
   ],
   "source": [
    "class A:\n",
    "    def methodA(self):\n",
    "        print(\"Calling A's methodA\")\n",
    "    def method(self):\n",
    "        print(\"Calling A's method\")\n",
    "        \n",
    "class B:\n",
    "    def methodB(self):\n",
    "        print(\"calling B's methodB\")\n",
    "        \n",
    "class C(A, B):\n",
    "    def methodC(self):\n",
    "        print(\"Calling C's methodC\")\n",
    "    def method(self):\n",
    "        print(\"Calling C's overridden method\")\n",
    "        super().method()\n",
    "        \n",
    "        \n",
    "c = C()\n",
    "c.methodA()\n",
    "c.methodB()\n",
    "c.methodC()\n",
    "c.method()"
   ]
  },
  {
   "attachments": {},
   "cell_type": "markdown",
   "metadata": {},
   "source": [
    "### __init__생성자\n",
    "- __init__함수는 클래스 인스턴스가 생성될 때 자동으로 호출되는 메소드로서 생성자라고 부른다.\n",
    "- __init__생성자 내부에서 self.으로 시작하는 변수들은 인스턴스 변수로서 사용 범위가 인스턴스 내부로 국한된다.\n",
    "- __init__생성자에서 인수를 넘겨받는 용도의 변수나 앞에 self.이 붙지 않는 변수들은 지역변수다.\n"
   ]
  },
  {
   "cell_type": "code",
   "execution_count": 6,
   "metadata": {},
   "outputs": [
    {
     "name": "stdout",
     "output_type": "stream",
     "text": [
      "Calling __init__(GOOG, 1145.05) > count: 1\n",
      "Calling__del__(<__main__.NasdaqStock object at 0x10d879db0>)\n",
      "Calling __init__(MSFT, 102.44) > count: 2\n",
      "Calling__del__(<__main__.NasdaqStock object at 0x10d87aad0>)\n",
      "Calling __init__(AMZN, 1746.00) > count: 3\n",
      "Calling__del__(<__main__.NasdaqStock object at 0x10d879db0>)\n"
     ]
    }
   ],
   "source": [
    "class NasdaqStock:\n",
    "    \"\"\"Class for NASDAQ stocks\"\"\" # 독스트링\n",
    "    count = 0\n",
    "    def __init__(self, symbol, price):\n",
    "        \"\"\"Constructor for NasdaqStock\"\"\" # 독스트링\n",
    "        self.symbol = symbol # 인스턴스 변수\n",
    "        self.price = price\n",
    "        NasdaqStock.count +=1\n",
    "        print('Calling __init__({}, {:.2f}) > count: {}'.format\n",
    "              (self.symbol, self.price, NasdaqStock.count))\n",
    "        \n",
    "    def __del__(self):\n",
    "        \"\"\"Destructor for NasdaqStock\"\"\" # 독스트링\n",
    "        print('Calling__del__({})'.format(self))\n",
    "        \n",
    "        \n",
    "gg = NasdaqStock('GOOG', 1145.05)\n",
    "del(gg)\n",
    "ms = NasdaqStock('MSFT', 102.44)\n",
    "del(ms)\n",
    "amz = NasdaqStock('AMZN', 1746.00)\n",
    "del(amz)"
   ]
  },
  {
   "cell_type": "code",
   "execution_count": null,
   "metadata": {},
   "outputs": [],
   "source": []
  }
 ],
 "metadata": {
  "kernelspec": {
   "display_name": ".venv",
   "language": "python",
   "name": "python3"
  },
  "language_info": {
   "codemirror_mode": {
    "name": "ipython",
    "version": 3
   },
   "file_extension": ".py",
   "mimetype": "text/x-python",
   "name": "python",
   "nbconvert_exporter": "python",
   "pygments_lexer": "ipython3",
   "version": "3.11.1"
  },
  "orig_nbformat": 4,
  "vscode": {
   "interpreter": {
    "hash": "80ea31bb0b68ed45a364b6fdc6a9ff2d22c13b8c43a4c59cd67fa7051aec55c8"
   }
  }
 },
 "nbformat": 4,
 "nbformat_minor": 2
}
