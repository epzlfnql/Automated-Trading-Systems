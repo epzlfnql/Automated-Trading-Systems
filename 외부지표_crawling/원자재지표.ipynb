{
 "cells": [
  {
   "cell_type": "markdown",
   "metadata": {},
   "source": [
    "## 금, 은, 구리"
   ]
  },
  {
   "cell_type": "code",
   "execution_count": 1,
   "metadata": {},
   "outputs": [],
   "source": [
    "import quandl\n",
    "\n",
    "QUANDL_KEY = 'Z2htjZxAdKrqR8V9xPgg'\n",
    "quandl.ApiConfig.api_key = QUANDL_KEY\n",
    "\n",
    "# 나중에 함수화 하기\n",
    "df_gold = quandl.get(dataset='LBMA/GOLD', start_date = '2018-01-01')\n",
    "df_gold.reset_index(inplace=True)\n",
    "df_gold = df_gold[['Date', 'USD (AM)']]\n",
    "df_gold\n",
    "\n",
    "df_silver = quandl.get(dataset='LBMA/SILVER', start_date = '2018-01-01')\n",
    "df_silver.reset_index(inplace=True)\n",
    "df_silver = df_silver[['Date', 'USD']]\n",
    "df_silver\n",
    "\n",
    "df_copper = quandl.get(\"CHRIS/CME_HG10\", start_date='2018-01-01')\n",
    "df_copper.reset_index(inplace=True)\n",
    "df_copper = df_copper[['Date', 'Settle']]"
   ]
  },
  {
   "cell_type": "code",
   "execution_count": 2,
   "metadata": {},
   "outputs": [
    {
     "data": {
      "text/html": [
       "<div>\n",
       "<style scoped>\n",
       "    .dataframe tbody tr th:only-of-type {\n",
       "        vertical-align: middle;\n",
       "    }\n",
       "\n",
       "    .dataframe tbody tr th {\n",
       "        vertical-align: top;\n",
       "    }\n",
       "\n",
       "    .dataframe thead th {\n",
       "        text-align: right;\n",
       "    }\n",
       "</style>\n",
       "<table border=\"1\" class=\"dataframe\">\n",
       "  <thead>\n",
       "    <tr style=\"text-align: right;\">\n",
       "      <th></th>\n",
       "      <th>Date</th>\n",
       "      <th>Settle</th>\n",
       "    </tr>\n",
       "  </thead>\n",
       "  <tbody>\n",
       "    <tr>\n",
       "      <th>869</th>\n",
       "      <td>2021-06-16</td>\n",
       "      <td>4.4020</td>\n",
       "    </tr>\n",
       "    <tr>\n",
       "      <th>870</th>\n",
       "      <td>2021-06-17</td>\n",
       "      <td>4.1975</td>\n",
       "    </tr>\n",
       "    <tr>\n",
       "      <th>871</th>\n",
       "      <td>2021-06-18</td>\n",
       "      <td>4.1750</td>\n",
       "    </tr>\n",
       "    <tr>\n",
       "      <th>872</th>\n",
       "      <td>2021-06-21</td>\n",
       "      <td>4.1905</td>\n",
       "    </tr>\n",
       "    <tr>\n",
       "      <th>873</th>\n",
       "      <td>2021-06-22</td>\n",
       "      <td>4.2205</td>\n",
       "    </tr>\n",
       "    <tr>\n",
       "      <th>874</th>\n",
       "      <td>2021-06-23</td>\n",
       "      <td>4.3280</td>\n",
       "    </tr>\n",
       "    <tr>\n",
       "      <th>875</th>\n",
       "      <td>2021-06-24</td>\n",
       "      <td>4.3095</td>\n",
       "    </tr>\n",
       "    <tr>\n",
       "      <th>876</th>\n",
       "      <td>2021-06-25</td>\n",
       "      <td>4.2910</td>\n",
       "    </tr>\n",
       "    <tr>\n",
       "      <th>877</th>\n",
       "      <td>2021-06-28</td>\n",
       "      <td>4.2825</td>\n",
       "    </tr>\n",
       "    <tr>\n",
       "      <th>878</th>\n",
       "      <td>2021-06-29</td>\n",
       "      <td>4.2525</td>\n",
       "    </tr>\n",
       "  </tbody>\n",
       "</table>\n",
       "</div>"
      ],
      "text/plain": [
       "          Date  Settle\n",
       "869 2021-06-16  4.4020\n",
       "870 2021-06-17  4.1975\n",
       "871 2021-06-18  4.1750\n",
       "872 2021-06-21  4.1905\n",
       "873 2021-06-22  4.2205\n",
       "874 2021-06-23  4.3280\n",
       "875 2021-06-24  4.3095\n",
       "876 2021-06-25  4.2910\n",
       "877 2021-06-28  4.2825\n",
       "878 2021-06-29  4.2525"
      ]
     },
     "execution_count": 2,
     "metadata": {},
     "output_type": "execute_result"
    }
   ],
   "source": [
    "df_copper.tail(10)"
   ]
  },
  {
   "cell_type": "code",
   "execution_count": null,
   "metadata": {},
   "outputs": [],
   "source": [
    "# "
   ]
  }
 ],
 "metadata": {
  "kernelspec": {
   "display_name": ".venv",
   "language": "python",
   "name": "python3"
  },
  "language_info": {
   "codemirror_mode": {
    "name": "ipython",
    "version": 3
   },
   "file_extension": ".py",
   "mimetype": "text/x-python",
   "name": "python",
   "nbconvert_exporter": "python",
   "pygments_lexer": "ipython3",
   "version": "3.11.1"
  },
  "orig_nbformat": 4,
  "vscode": {
   "interpreter": {
    "hash": "80ea31bb0b68ed45a364b6fdc6a9ff2d22c13b8c43a4c59cd67fa7051aec55c8"
   }
  }
 },
 "nbformat": 4,
 "nbformat_minor": 2
}
